{
  "nbformat": 4,
  "nbformat_minor": 0,
  "metadata": {
    "colab": {
      "name": "Tarea_examen1920v2.ipynb",
      "provenance": [],
      "collapsed_sections": [
        "cxGu1i40OH8a",
        "Km10I65II8dG",
        "oUlhLD-kOH8b",
        "Vsfg5rhXOH8b",
        "34JBNkr9OH8c",
        "D8BtECwgOH8c",
        "v9Fss504OH8d"
      ]
    },
    "kernelspec": {
      "display_name": "Python 3",
      "language": "python",
      "name": "python3"
    },
    "language_info": {
      "codemirror_mode": {
        "name": "ipython",
        "version": 3
      },
      "file_extension": ".py",
      "mimetype": "text/x-python",
      "name": "python",
      "nbconvert_exporter": "python",
      "pygments_lexer": "ipython3",
      "version": "3.7.4"
    }
  },
  "cells": [
    {
      "cell_type": "markdown",
      "metadata": {
        "id": "oK5GpENvOH8O"
      },
      "source": [
        "## 1. The World Bank's international debt data\n",
        "<p>No es que los humanos solo tengamos deudas para administrar nuestras necesidades. Un país también puede endeudarse para administrar su economía. Por ejemplo, el gasto en infraestructura es un ingrediente costoso requerido para que los ciudadanos de un país lleven una vida cómoda. El Banco Mundial es la organización que proporciona deuda a los países.</p>\n",
        "\n",
        "<!-- <p>En este notebook, vamos a analizar los datos de la deuda internacional recopilados por el Banco Mundial. El conjunto de datos contiene información sobre el monto de la deuda (en USD) que deben los países en desarrollo en varias categorías.</p>  -->\n",
        "    "
      ]
    },
    {
      "cell_type": "markdown",
      "metadata": {
        "id": "ATbfg0bVOH8Y"
      },
      "source": [
        "\"Disbursements on external debt, long-term (DIS, current US$)\",DT.DIS.DLXF.CD\n",
        "\"Interest payments on external debt, long-term (INT, current US$)\",DT.INT.DLXF.CD\n",
        "\"PPG, bilateral (AMT, current US$)\",DT.AMT.BLAT.CD\n",
        "\"PPG, bilateral (DIS, current US$)\",DT.DIS.BLAT.CD\n",
        "\"PPG, bilateral (INT, current US$)\",DT.INT.BLAT.CD\n",
        "\"PPG, multilateral (AMT, current US$)\",DT.AMT.MLAT.CD\n",
        "\"PPG, multilateral (DIS, current US$)\",DT.DIS.MLAT.CD\n",
        "\"PPG, multilateral (INT, current US$)\",DT.INT.MLAT.CD\n",
        "\"PPG, official creditors (AMT, current US$)\",DT.AMT.OFFT.CD\n",
        "\"PPG, official creditors (DIS, current US$)\",DT.DIS.OFFT.CD\n",
        "\"PPG, official creditors (INT, current US$)\",DT.INT.OFFT.CD\n",
        "\"Principal repayments on external debt, long-term (AMT, current US$)\",DT.AMT.DLXF.CD\n",
        "\"Interest payments on external debt, private nonguaranteed (PNG) (INT, current US$)\",DT.INT.DPNG.CD\n",
        "\"PPG, bonds (AMT, current US$)\",DT.AMT.PBND.CD\n",
        "\"PPG, bonds (INT, current US$)\",DT.INT.PBND.CD\n",
        "\"PPG, commercial banks (AMT, current US$)\",DT.AMT.PCBK.CD\n",
        "\"PPG, commercial banks (DIS, current US$)\",DT.DIS.PCBK.CD\n",
        "\"PPG, commercial banks (INT, current US$)\",DT.INT.PCBK.CD\n",
        "\"PPG, other private creditors (AMT, current US$)\",DT.AMT.PROP.CD\n",
        "\"PPG, other private creditors (DIS, current US$)\",DT.DIS.PROP.CD\n",
        "\"PPG, other private creditors (INT, current US$)\",DT.INT.PROP.CD\n",
        "\"PPG, private creditors (AMT, current US$)\",DT.AMT.PRVT.CD\n",
        "\"PPG, private creditors (DIS, current US$)\",DT.DIS.PRVT.CD\n",
        "\"PPG, private creditors (INT, current US$)\",DT.INT.PRVT.CD\n",
        "\"Principal repayments on external debt, private nonguaranteed (PNG) (AMT, current US$)\",DT.AMT.DPNG.CD"
      ]
    },
    {
      "cell_type": "markdown",
      "metadata": {
        "id": "w17nhxU3OH8Z"
      },
      "source": [
        "<p>Vamos a encontrar las respuestas a preguntas como:\n",
        "\n",
        "<p>¿Cuál es el monto total de la deuda que deben los países enumerados en el conjunto de datos?\n",
        "<p>¿Qué país posee la cantidad máxima de deuda y cómo se ve esa cantidad?\n",
        "<p>¿Cuál es el monto promedio de la deuda de los países a través de diferentes indicadores de deuda?\n",
        "    \n",
        "Además tenemos otro dataset en el que encontramos información histórica de algunos índices de desarrollo, entre los que se encuentran algunos de deuda como son:"
      ]
    },
    {
      "cell_type": "markdown",
      "metadata": {
        "id": "xX2vMRjuOH8Z"
      },
      "source": [
        "Series Name,Series Code\n",
        "\"Birth rate, crude (per 1,000 people)\",SP.DYN.CBRT.IN\n",
        "\n",
        "\"Central government debt, total (current LCU)\",GC.DOD.TOTL.CN\n",
        "\n",
        "\"Central government debt, total (% of GDP)\",GC.DOD.TOTL.GD.ZS"
      ]
    },
    {
      "cell_type": "markdown",
      "metadata": {
        "id": "48E99Rhj6gUe"
      },
      "source": [
        "------------------------------"
      ]
    },
    {
      "cell_type": "markdown",
      "metadata": {
        "id": "tnFN8mjcOH8a"
      },
      "source": [
        "#### **1. Inicializar y cargar el contexto spark**"
      ]
    },
    {
      "cell_type": "code",
      "metadata": {
        "id": "mCPPWTJYOd1A"
      },
      "source": [
        "# Instalacion\r\n",
        "!apt-get install openjdk-8-jdk-headless -qq > /dev/null\r\n",
        "!wget -q https://www-us.apache.org/dist/spark/spark-2.4.7/spark-2.4.7-bin-hadoop2.7.tgz\r\n",
        "!tar xf spark-2.4.7-bin-hadoop2.7.tgz\r\n",
        "!pip install -q findspark\r\n",
        "\r\n",
        "# Importo un enviroment de java y spark\r\n",
        "import os\r\n",
        "os.environ[\"JAVA_HOME\"] = \"/usr/lib/jvm/java-8-openjdk-amd64\"\r\n",
        "os.environ[\"SPARK_HOME\"] = \"/content/spark-2.4.7-bin-hadoop2.7\"\r\n",
        "\r\n",
        "# Impoero e inicio findspark\r\n",
        "import findspark\r\n",
        "findspark.init()\r\n",
        "\r\n",
        "# Inicio sesion del contexto spark\r\n",
        "from pyspark import SparkContext\r\n",
        "\r\n",
        "#Creo un objeto rdd para trabajar con el\r\n",
        "sc = SparkContext.getOrCreate()\r\n",
        "\r\n",
        "# Importo SparkSession desde pyspark.sql\r\n",
        "from pyspark.sql import SparkSession\r\n",
        "from pyspark.sql import SQLContext\r\n",
        "sqlContext = SQLContext(sc)\r\n",
        "\r\n",
        "# Creacion de objeto llamado spark\r\n",
        "spark = SparkSession.builder.master(\"local[*]\").getOrCreate()"
      ],
      "execution_count": null,
      "outputs": []
    },
    {
      "cell_type": "markdown",
      "metadata": {
        "id": "Lfv8lwLBo9Wy"
      },
      "source": [
        "### CARGA DE BASES DE DATOS"
      ]
    },
    {
      "cell_type": "markdown",
      "metadata": {
        "id": "SJpTlq8bQJhc"
      },
      "source": [
        "1. Cargamos y visualización de los datos "
      ]
    },
    {
      "cell_type": "code",
      "metadata": {
        "colab": {
          "base_uri": "https://localhost:8080/"
        },
        "id": "tXIPDehgQweA",
        "outputId": "2d8d3d4b-9524-493e-aee2-79866e85afd8"
      },
      "source": [
        "# Desarrollo\r\n",
        "data_file_desarrollo = \"indicadores_desarrollo.csv\"\r\n",
        "raw_desarrollo = sc.textFile(data_file_desarrollo) # leemos el archivo \r\n",
        "raw_desarrollo.take(2)"
      ],
      "execution_count": null,
      "outputs": [
        {
          "output_type": "execute_result",
          "data": {
            "text/plain": [
              "['country_name,country_code,anho,GC.DOD.TOTL.CN,GC.DOD.TOTL.GD.ZS,SP.DYN.CBRT.IN',\n",
              " 'Albania,ALB,2014 [YR2014],1023040800000,73.3202469198429,12.259']"
            ]
          },
          "metadata": {
            "tags": []
          },
          "execution_count": 267
        }
      ]
    },
    {
      "cell_type": "code",
      "metadata": {
        "colab": {
          "base_uri": "https://localhost:8080/"
        },
        "id": "mMcatu7NxatT",
        "outputId": "328fb921-e4ae-497f-a5d1-bfcf3cffd0b8"
      },
      "source": [
        "# Deuda\r\n",
        "data_file_deuda = \"indicadores_deuda.csv\"\r\n",
        "raw_deuda = sc.textFile(data_file_deuda)\r\n",
        "raw_deuda.take(2)"
      ],
      "execution_count": null,
      "outputs": [
        {
          "output_type": "execute_result",
          "data": {
            "text/plain": [
              "['country_name,country_code,DT.AMT.BLAT.CD,DT.AMT.DLXF.CD,DT.AMT.DPNG.CD,DT.AMT.MLAT.CD,DT.AMT.OFFT.CD,DT.AMT.PBND.CD,DT.AMT.PCBK.CD,DT.AMT.PROP.CD,DT.AMT.PRVT.CD,DT.DIS.BLAT.CD,DT.DIS.DLXF.CD,DT.DIS.MLAT.CD,DT.DIS.OFFT.CD,DT.DIS.PCBK.CD,DT.DIS.PROP.CD,DT.DIS.PRVT.CD,DT.INT.BLAT.CD,DT.INT.DLXF.CD,DT.INT.DPNG.CD,DT.INT.MLAT.CD,DT.INT.OFFT.CD,DT.INT.PBND.CD,DT.INT.PCBK.CD,DT.INT.PROP.CD,DT.INT.PRVT.CD',\n",
              " 'Afghanistan,AFG,61739336.9,100847181.9,,39107845,100847181.9,,,,,49114729.4,72894453.7,23779724.3,72894453.7,,,,39903620.1,53239440.1,,13335820,53239440.1,,,,']"
            ]
          },
          "metadata": {
            "tags": []
          },
          "execution_count": 268
        }
      ]
    },
    {
      "cell_type": "markdown",
      "metadata": {
        "id": "THkCB9lyxjw3"
      },
      "source": [
        "2. Quitamos la cabecera"
      ]
    },
    {
      "cell_type": "code",
      "metadata": {
        "id": "qRe9XmlLxqI8",
        "colab": {
          "base_uri": "https://localhost:8080/"
        },
        "outputId": "dae4b691-ec07-4443-b9c5-1247bb3a0766"
      },
      "source": [
        "# Desarrollo\r\n",
        "cabecera =raw_desarrollo .first()\r\n",
        "desarrollo_sin_cabecera = raw_desarrollo.filter(lambda x: x != cabecera)\r\n",
        "desarrollo_sin_cabecera.take(2)"
      ],
      "execution_count": null,
      "outputs": [
        {
          "output_type": "execute_result",
          "data": {
            "text/plain": [
              "['Albania,ALB,2014 [YR2014],1023040800000,73.3202469198429,12.259',\n",
              " 'Albania,ALB,2015 [YR2015],1145500940000,79.8644448747259,12.197']"
            ]
          },
          "metadata": {
            "tags": []
          },
          "execution_count": 90
        }
      ]
    },
    {
      "cell_type": "code",
      "metadata": {
        "colab": {
          "base_uri": "https://localhost:8080/"
        },
        "id": "7cBm8ENixqLF",
        "outputId": "b5e0fffe-8410-4a6f-ec86-0b491d474d15"
      },
      "source": [
        "# Deuda \r\n",
        "cabecera = raw_deuda.first()\r\n",
        "deuda_sin_cabecera = raw_deuda.filter(lambda x: x != cabecera)\r\n",
        "deuda_sin_cabecera.take(1)"
      ],
      "execution_count": null,
      "outputs": [
        {
          "output_type": "execute_result",
          "data": {
            "text/plain": [
              "['Afghanistan,AFG,61739336.9,100847181.9,,39107845,100847181.9,,,,,49114729.4,72894453.7,23779724.3,72894453.7,,,,39903620.1,53239440.1,,13335820,53239440.1,,,,']"
            ]
          },
          "metadata": {
            "tags": []
          },
          "execution_count": 91
        }
      ]
    },
    {
      "cell_type": "markdown",
      "metadata": {
        "id": "z0p0mJO6zSeS"
      },
      "source": [
        "3. Separamos por `,`"
      ]
    },
    {
      "cell_type": "code",
      "metadata": {
        "colab": {
          "base_uri": "https://localhost:8080/"
        },
        "id": "K7AiQovuzSqE",
        "outputId": "794488f0-e68e-4e39-e793-74c2cd2131c5"
      },
      "source": [
        "# Desarrollo\r\n",
        "desarrollo_pars = desarrollo_sin_cabecera.map(lambda x: x.split(\",\"))\r\n",
        "desarrollo_pars.take(2)"
      ],
      "execution_count": null,
      "outputs": [
        {
          "output_type": "execute_result",
          "data": {
            "text/plain": [
              "[['country_name',\n",
              "  'country_code',\n",
              "  'anho',\n",
              "  'GC.DOD.TOTL.CN',\n",
              "  'GC.DOD.TOTL.GD.ZS',\n",
              "  'SP.DYN.CBRT.IN'],\n",
              " ['Albania',\n",
              "  'ALB',\n",
              "  '2014 [YR2014]',\n",
              "  '1023040800000',\n",
              "  '73.3202469198429',\n",
              "  '12.259']]"
            ]
          },
          "metadata": {
            "tags": []
          },
          "execution_count": 92
        }
      ]
    },
    {
      "cell_type": "code",
      "metadata": {
        "colab": {
          "base_uri": "https://localhost:8080/"
        },
        "id": "XkdTixd_zSyl",
        "outputId": "21f35b08-1be5-43be-e312-6c71cb740607"
      },
      "source": [
        "# Deuda\r\n",
        "deuda_pars = deuda_sin_cabecera.map(lambda x: x.split(\",\"))\r\n",
        "deuda_pars.take(2)"
      ],
      "execution_count": null,
      "outputs": [
        {
          "output_type": "execute_result",
          "data": {
            "text/plain": [
              "[['Afghanistan',\n",
              "  'AFG',\n",
              "  '61739336.9',\n",
              "  '100847181.9',\n",
              "  '',\n",
              "  '39107845',\n",
              "  '100847181.9',\n",
              "  '',\n",
              "  '',\n",
              "  '',\n",
              "  '',\n",
              "  '49114729.4',\n",
              "  '72894453.7',\n",
              "  '23779724.3',\n",
              "  '72894453.7',\n",
              "  '',\n",
              "  '',\n",
              "  '',\n",
              "  '39903620.1',\n",
              "  '53239440.1',\n",
              "  '',\n",
              "  '13335820',\n",
              "  '53239440.1',\n",
              "  '',\n",
              "  '',\n",
              "  '',\n",
              "  ''],\n",
              " ['Albania',\n",
              "  'ALB',\n",
              "  '54250280.6',\n",
              "  '790248675.2',\n",
              "  '514185620',\n",
              "  '182197616.7',\n",
              "  '236447897.3',\n",
              "  '0',\n",
              "  '39445139.5',\n",
              "  '170018.4',\n",
              "  '39615157.9',\n",
              "  '76050616.1',\n",
              "  '317194512.5',\n",
              "  '234321242.3',\n",
              "  '310371858.4',\n",
              "  '4542664.9',\n",
              "  '2279989.2',\n",
              "  '6822654.1',\n",
              "  '13847333.6',\n",
              "  '165602386.9',\n",
              "  '87884000',\n",
              "  '28101536.1',\n",
              "  '41948869.7',\n",
              "  '31030688.2',\n",
              "  '4618504.3',\n",
              "  '120324.7',\n",
              "  '35769517.2']]"
            ]
          },
          "metadata": {
            "tags": []
          },
          "execution_count": 93
        }
      ]
    },
    {
      "cell_type": "markdown",
      "metadata": {
        "id": "W8G5LPOAw7Ex"
      },
      "source": [
        "4. Paso a float los valores perdidos"
      ]
    },
    {
      "cell_type": "code",
      "metadata": {
        "id": "L8PDbXz3ws17"
      },
      "source": [
        "def tofloat (x):\r\n",
        "  if x in [\"\" , \" \" , \"nan\" , \"null\"]:\r\n",
        "    output = 0.0\r\n",
        "  else:\r\n",
        "    output = float(x)\r\n",
        "  return output"
      ],
      "execution_count": null,
      "outputs": []
    },
    {
      "cell_type": "markdown",
      "metadata": {
        "id": "oY7-P7hI2yjH"
      },
      "source": [
        "5. Modificamos los nombres para que las filas tengan la misma longitud (cada celda en su sitio)"
      ]
    },
    {
      "cell_type": "code",
      "metadata": {
        "id": "AnQrzZyCo8Lf"
      },
      "source": [
        "# creamos una función\r\n",
        "def parsed2(line,lon):\r\n",
        "    line_splitted = line.split(\",\") # lo separo por ,\r\n",
        "    if (len(line_splitted) == lon): #6 para desarrollo y 27 para deuda\r\n",
        "        l = line_splitted\r\n",
        "    else:\r\n",
        "        l = line_splitted[2:] # los que no cumplan que sea = 2\r\n",
        "        l.insert(0, line_splitted[0]+line_splitted[1]) # que me introduzca el nombre por delante\r\n",
        "    return l"
      ],
      "execution_count": null,
      "outputs": []
    },
    {
      "cell_type": "code",
      "metadata": {
        "colab": {
          "base_uri": "https://localhost:8080/"
        },
        "id": "rJJfWGQdpVXe",
        "outputId": "9fd39ab7-5915-4d41-ca9b-fda8f694480f"
      },
      "source": [
        "# Desarrollo\r\n",
        "desarrollo = desarrollo_sin_cabecera.map(lambda x: parsed2(x,6)).map(lambda x: len(x)).distinct() # todas las filas tienen la longitud de 6\r\n",
        "desarrollo.take(2)"
      ],
      "execution_count": null,
      "outputs": [
        {
          "output_type": "execute_result",
          "data": {
            "text/plain": [
              "[6]"
            ]
          },
          "metadata": {
            "tags": []
          },
          "execution_count": 96
        }
      ]
    },
    {
      "cell_type": "code",
      "metadata": {
        "colab": {
          "base_uri": "https://localhost:8080/"
        },
        "id": "1oN9BsUCpYE3",
        "outputId": "3566bb77-9dfd-4045-d3c4-aa8999abe38a"
      },
      "source": [
        "# Deuda\r\n",
        "deuda = deuda_sin_cabecera.map(lambda x: parsed2(x,27)).map(lambda x: len(x)).distinct()\r\n",
        "deuda.take(2)"
      ],
      "execution_count": null,
      "outputs": [
        {
          "output_type": "execute_result",
          "data": {
            "text/plain": [
              "[27]"
            ]
          },
          "metadata": {
            "tags": []
          },
          "execution_count": 97
        }
      ]
    },
    {
      "cell_type": "markdown",
      "metadata": {
        "id": "jLZRvO4RKF8x"
      },
      "source": [
        "***"
      ]
    },
    {
      "cell_type": "markdown",
      "metadata": {
        "id": "cxGu1i40OH8a"
      },
      "source": [
        "##### **2. Número de países distintos en cada dataset. Coinciden?**"
      ]
    },
    {
      "cell_type": "markdown",
      "metadata": {
        "id": "MhFmPtEbLtRd"
      },
      "source": [
        "* Indicadores Desarrollo"
      ]
    },
    {
      "cell_type": "code",
      "metadata": {
        "colab": {
          "base_uri": "https://localhost:8080/"
        },
        "id": "Ona-SySNKPv0",
        "outputId": "8e22d3a5-a1fb-4769-8148-bd4aa6cfe27f"
      },
      "source": [
        "desarrollo_pars.map(lambda x: x[0]).distinct().count() # tiene que salir 52"
      ],
      "execution_count": null,
      "outputs": [
        {
          "output_type": "execute_result",
          "data": {
            "text/plain": [
              "52"
            ]
          },
          "metadata": {
            "tags": []
          },
          "execution_count": 98
        }
      ]
    },
    {
      "cell_type": "code",
      "metadata": {
        "colab": {
          "base_uri": "https://localhost:8080/"
        },
        "id": "eVPPXTiONvl0",
        "outputId": "2248d3f1-082a-4977-cbbe-64ea4e6836bd"
      },
      "source": [
        "print(\"El número de paises distintos de en la base de datos de indicadores de desarrollo es {} \".format(desarrollo_pars.map(lambda x: x[0]).distinct().count()))"
      ],
      "execution_count": null,
      "outputs": [
        {
          "output_type": "stream",
          "text": [
            "El número de paises distintos de en la base de datos de indicadores de desarrollo es 52 \n"
          ],
          "name": "stdout"
        }
      ]
    },
    {
      "cell_type": "markdown",
      "metadata": {
        "id": "Xdm4Hx0r50kT"
      },
      "source": [
        "* Indicador de Deuda"
      ]
    },
    {
      "cell_type": "code",
      "metadata": {
        "colab": {
          "base_uri": "https://localhost:8080/"
        },
        "id": "KcQagDZsLyXl",
        "outputId": "0d1751f5-ae81-473d-d9db-cca817e302ca"
      },
      "source": [
        "raw_deuda.map(lambda x: parsed2(x,27)).map(lambda x: x[0]).distinct().count()"
      ],
      "execution_count": null,
      "outputs": [
        {
          "output_type": "execute_result",
          "data": {
            "text/plain": [
              "125"
            ]
          },
          "metadata": {
            "tags": []
          },
          "execution_count": 100
        }
      ]
    },
    {
      "cell_type": "code",
      "metadata": {
        "colab": {
          "base_uri": "https://localhost:8080/"
        },
        "id": "3YRlsAUi5IxW",
        "outputId": "cb559d5e-b7fc-4139-f219-8cd39419e692"
      },
      "source": [
        "deuda_pars.map(lambda x: x[0]).distinct().count() # tiene que salir 124"
      ],
      "execution_count": null,
      "outputs": [
        {
          "output_type": "execute_result",
          "data": {
            "text/plain": [
              "123"
            ]
          },
          "metadata": {
            "tags": []
          },
          "execution_count": 103
        }
      ]
    },
    {
      "cell_type": "code",
      "metadata": {
        "colab": {
          "base_uri": "https://localhost:8080/"
        },
        "id": "lcZwMoi9OWWk",
        "outputId": "c3d0416d-08e1-4707-b02b-a769483a81bf"
      },
      "source": [
        "print(\"El número de paises distintos de en la base de datos de indicadores de deuda es {} \".format(deuda_pars_sin_cabecera.map(lambda x: x[0]).distinct().count()))"
      ],
      "execution_count": null,
      "outputs": [
        {
          "output_type": "stream",
          "text": [
            "El número de paises distintos de en la base de datos de indicadores de deuda es 124 \n"
          ],
          "name": "stdout"
        }
      ]
    },
    {
      "cell_type": "markdown",
      "metadata": {
        "id": "Km10I65II8dG"
      },
      "source": [
        "##### **3. Total de deuda contraida por cada pais: total amount of debt (in USD) DT.AMT.MLAT.CD**"
      ]
    },
    {
      "cell_type": "code",
      "metadata": {
        "colab": {
          "base_uri": "https://localhost:8080/"
        },
        "id": "UVjR5afmI_x_",
        "outputId": "380f216a-b9ab-4134-8b09-1b63f1270771"
      },
      "source": [
        "total_deuda = deuda_pars.map(lambda x: (x[0] , x[5])) # selecciono solo la columna 1 hasta la 6 \r\n",
        "total_deuda.collect()"
      ],
      "execution_count": null,
      "outputs": [
        {
          "output_type": "execute_result",
          "data": {
            "text/plain": [
              "[('Afghanistan', '39107845'),\n",
              " ('Albania', '182197616.7'),\n",
              " ('Algeria', '0'),\n",
              " ('Angola', '124688691.9'),\n",
              " ('Armenia', '94331207.1'),\n",
              " ('Azerbaijan', '513623656.5'),\n",
              " ('Bangladesh', '1039564682.7'),\n",
              " ('Belarus', '595438826'),\n",
              " ('Belize', '29683326.5'),\n",
              " ('Benin', '91631639.5'),\n",
              " ('Bhutan', '17390420.5'),\n",
              " ('Bolivia', '357721211.5'),\n",
              " ('Bosnia and Herzegovina', '290170946.5'),\n",
              " ('Botswana', '125652344.5'),\n",
              " ('Brazil', '2514318741.6'),\n",
              " ('Bulgaria', '228993019.8'),\n",
              " ('Burkina Faso', '119510893'),\n",
              " ('Burundi', '16115111.8'),\n",
              " ('Cabo Verde', '39970124.9'),\n",
              " ('Cambodia', '72307001.8'),\n",
              " ('Cameroon', '152095968.1'),\n",
              " ('Central African Republic', '2241813.8'),\n",
              " ('Chad', '95738709.5'),\n",
              " ('China', '2615723714.1'),\n",
              " ('Colombia', '1100907553.6'),\n",
              " ('Comoros', '2182053.1'),\n",
              " ('\"Congo', ''),\n",
              " ('\"Congo', ''),\n",
              " ('Costa Rica', '272808260.7'),\n",
              " (\"Cote d'Ivoire\", '84629406.5'),\n",
              " ('Djibouti', '34254909.2'),\n",
              " ('Dominica', '11130355.8'),\n",
              " ('Dominican Republic', '254728306.1'),\n",
              " ('Ecuador', '578894793.9'),\n",
              " ('\"Egypt', '94662397.3'),\n",
              " ('El Salvador', '298939687.1'),\n",
              " ('Eritrea', '15482475.4'),\n",
              " ('Eswatini', '18130218.8'),\n",
              " ('Ethiopia', '171590722.7'),\n",
              " ('Fiji', '9082442.6'),\n",
              " ('Gabon', '62404132.3'),\n",
              " ('\"Gambia', ''),\n",
              " ('Georgia', '144062401.5'),\n",
              " ('Ghana', '130202003.1'),\n",
              " ('Grenada', '13740888.8'),\n",
              " ('Guatemala', '339822253.6'),\n",
              " ('Guinea', '29819676.8'),\n",
              " ('Guinea-Bissau', '6713257.2'),\n",
              " ('Guyana', '34651806.5'),\n",
              " ('Haiti', '10087968.8'),\n",
              " ('Honduras', '148225048.7'),\n",
              " ('IDA only', '4884095623.3'),\n",
              " ('India', '4545609909.9'),\n",
              " ('Indonesia', '2469145824.7'),\n",
              " ('\"Iran', ''),\n",
              " ('Jamaica', '174427648'),\n",
              " ('Jordan', '270498715.5'),\n",
              " ('Kazakhstan', '1079948889.7'),\n",
              " ('Kenya', '391340889.9'),\n",
              " ('Kosovo', '33590154.6'),\n",
              " ('Kyrgyz Republic', '75278037.2'),\n",
              " ('Lao PDR', '80684114.6'),\n",
              " ('Least developed countries: UN classification', '4084275524.2'),\n",
              " ('Lebanon', '167638089.7'),\n",
              " ('Lesotho', '32459403.7'),\n",
              " ('Liberia', '7383619.4'),\n",
              " ('\"Macedonia', '571657452.1'),\n",
              " ('Madagascar', '60669367.3'),\n",
              " ('Malawi', '35659831.4'),\n",
              " ('Maldives', '17896143.5'),\n",
              " ('Mali', '135472245.9'),\n",
              " ('Mauritania', '184408220.2'),\n",
              " ('Mauritius', '74568335.5'),\n",
              " ('Mexico', '864181883.5'),\n",
              " ('Moldova', '135842865.5'),\n",
              " ('Mongolia', '75937145.9'),\n",
              " ('Montenegro', '77948064.8'),\n",
              " ('Morocco', '1381649282.3'),\n",
              " ('Mozambique', '91225626.1'),\n",
              " ('Myanmar', '30569845.2'),\n",
              " ('Nepal', '163747512.9'),\n",
              " ('Nicaragua', '181115898'),\n",
              " ('Niger', '115132364.5'),\n",
              " ('Nigeria', '297246686.6'),\n",
              " ('Pakistan', '1578651453.9'),\n",
              " ('Papua New Guinea', '78345326'),\n",
              " ('Paraguay', '207662030.9'),\n",
              " ('Peru', '553634090'),\n",
              " ('Philippines', '739056427.3'),\n",
              " ('Romania', '1798305095.8'),\n",
              " ('Russian Federation', '141669500'),\n",
              " ('Rwanda', '31090382.5'),\n",
              " ('Samoa', '9987486.6'),\n",
              " ('Sao Tome and Principe', '2418947.6'),\n",
              " ('Senegal', '170437929.1'),\n",
              " ('Serbia', '715223963.7'),\n",
              " ('Sierra Leone', '24144262.8'),\n",
              " ('Solomon Islands', '3952828.9'),\n",
              " ('Somalia', '24683262.9'),\n",
              " ('South Africa', '346393763.9'),\n",
              " ('South Asia', '7851739929.5'),\n",
              " ('Sri Lanka', '449771961.1'),\n",
              " ('St. Lucia', '15019216.3'),\n",
              " ('St. Vincent and the Grenadines', '21615600.7'),\n",
              " ('Sudan', '217194878.8'),\n",
              " ('Syrian Arab Republic', '147903571.1'),\n",
              " ('Tajikistan', '59062982'),\n",
              " ('Tanzania', '141436637'),\n",
              " ('Thailand', '39071571.5'),\n",
              " ('Timor-Leste', '825000'),\n",
              " ('Togo', '44198800.7'),\n",
              " ('Tonga', '2791253.2'),\n",
              " ('Tunisia', '956604000.1'),\n",
              " ('Turkey', '2932698678'),\n",
              " ('Turkmenistan', '5831189.2'),\n",
              " ('Uganda', '145310077.2'),\n",
              " ('Ukraine', '1072472830.3'),\n",
              " ('Uzbekistan', '244240575.6'),\n",
              " ('Vanuatu', '2593419.3'),\n",
              " ('\"Venezuela', '6517487000'),\n",
              " ('Vietnam', '947632152.5'),\n",
              " ('\"Yemen', ''),\n",
              " ('Zambia', '53068964.9'),\n",
              " ('Zimbabwe', '26697905.1')]"
            ]
          },
          "metadata": {
            "tags": []
          },
          "execution_count": 323
        }
      ]
    },
    {
      "cell_type": "markdown",
      "metadata": {
        "id": "oUlhLD-kOH8b"
      },
      "source": [
        "##### 4. Media de los indicadores de deuda (tabla uno): DT.AMT.BLAT.CD, DT.DIS.BLAT.CD, DT.INT.BLAT.CD"
      ]
    },
    {
      "cell_type": "code",
      "metadata": {
        "id": "5K-0UGtDa_CK"
      },
      "source": [
        "#Cargo la libreria statistics para poder hacer la media \r\n",
        "from pyspark.mllib.stat import Statistics "
      ],
      "execution_count": null,
      "outputs": []
    },
    {
      "cell_type": "code",
      "metadata": {
        "id": "gKmZoLGJ3bc0",
        "colab": {
          "base_uri": "https://localhost:8080/"
        },
        "outputId": "47a8bb31-8742-4afd-99c2-f3eb3940cce9"
      },
      "source": [
        "# todo\r\n",
        "filtro = deuda_pars.map(lambda x: (x[0],x[2],x[11],x[18])) \r\n",
        "filtro.collect()"
      ],
      "execution_count": null,
      "outputs": [
        {
          "output_type": "execute_result",
          "data": {
            "text/plain": [
              "[('Afghanistan', '61739336.9', '49114729.4', '39903620.1'),\n",
              " ('Albania', '54250280.6', '76050616.1', '13847333.6'),\n",
              " ('Algeria', '95188724.6', '10320772.2', '7680627.6'),\n",
              " ('Angola', '8473824016.3', '8838256901.1', '1005053965.1'),\n",
              " ('Armenia', '68968314.7', '174269846.7', '24094832'),\n",
              " ('Azerbaijan', '106369937', '84748079.6', '10085950'),\n",
              " ('Bangladesh', '386702219.8', '6141785637.5', '309079773.4'),\n",
              " ('Belarus', '1487363278.5', '2265336386.7', '630234914.9'),\n",
              " ('Belize', '23329498.4', '3581448.7', '3455608.4'),\n",
              " ('Benin', '26014505.8', '334698287.3', '13208408.6'),\n",
              " ('Bhutan', '189877869.8', '95819437.4', '184064524.8'),\n",
              " ('Bolivia', '67814879.9', '554128686.3', '32609012.4'),\n",
              " ('Bosnia and Herzegovina', '108704966.2', '114375048.3', '12605397.7'),\n",
              " ('Botswana', '7903563.5', '1316332.2', '884447.5'),\n",
              " ('Brazil', '2097380010.6', '1179125278.8', '333237826.9'),\n",
              " ('Bulgaria', '35764202.8', '', '6012379.2'),\n",
              " ('Burkina Faso', '27371336', '90915960.2', '7382485.5'),\n",
              " ('Burundi', '10461498.5', '42339024.4', '520425.7'),\n",
              " ('Cabo Verde', '11767654.3', '37178444.8', '4216236.3'),\n",
              " ('Cambodia', '223300273.6', '476683829.4', '63836683.2'),\n",
              " ('Cameroon', '9999925153.3', '17090544247.5', '120877158.5'),\n",
              " ('Central African Republic', '8462062.9', '19477551.6', '860961'),\n",
              " ('Chad', '82357214.9', '27987660.9', '11882770.9'),\n",
              " ('China', '6532446441.9', '', '514898407.1'),\n",
              " ('Colombia', '447557894.1', '110671664.3', '122715407.2'),\n",
              " ('Comoros', '2610216', '8492726.4', '782831.5'),\n",
              " ('\"Congo', 'COD', '278750', ''),\n",
              " ('\"Congo', 'COG', '21696428.5', ''),\n",
              " ('Costa Rica', '34085176.1', '105969275.9', '10709783.4'),\n",
              " (\"Cote d'Ivoire\", '478283000.5', '526901028', '73124399.9'),\n",
              " ('Djibouti', '48803279.1', '85687012.1', '44878881.9'),\n",
              " ('Dominica', '8487067.1', '1092575', '1693891.5'),\n",
              " ('Dominican Republic', '214014574.6', '311336450.8', '43812226.9'),\n",
              " ('Ecuador', '1177917742.6', '415778474.8', '424453624.8'),\n",
              " ('\"Egypt', 'EGY', '223363381.1', '196463721.6'),\n",
              " ('El Salvador', '46180727.2', '16377537.9', '10447436.1'),\n",
              " ('Eritrea', '15627602.4', '2678802.6', '1556112.1'),\n",
              " ('Eswatini', '21586421.3', '54462529.7', '5511319'),\n",
              " ('Ethiopia', '510741366.9', '1142444763.3', '331367061.4'),\n",
              " ('Fiji', '37382876.6', '3902886.7', '6175526.5'),\n",
              " ('Gabon', '114697076', '354919707', '33263802.5'),\n",
              " ('\"Gambia', 'GMB', '974231.4', ''),\n",
              " ('Georgia', '63831412.1', '110677830.3', '2435342284.4'),\n",
              " ('Ghana', '865892038.7', '1163413713.8', '105007672'),\n",
              " ('Grenada', '11639110.2', '23225424.8', '3290655.4'),\n",
              " ('Guatemala', '41738434.7', '56408511.8', '8721281.3'),\n",
              " ('Guinea', '8832105.1', '61782399.4', '3723822.7'),\n",
              " ('Guinea-Bissau', '70371.9', '', '24800'),\n",
              " ('Guyana', '21758525.7', '35584684.1', '4885618.3'),\n",
              " ('Haiti', '51356369.6', '1597000', '10474000'),\n",
              " ('Honduras', '35890751.9', '91251459.7', '31044538.5'),\n",
              " ('IDA only', '6273480947.8', '16882903064.4', '2351375435.8'),\n",
              " ('India', '2451995834.5', '5588550763.4', '455965157.6'),\n",
              " ('Indonesia', '3233436193.9', '2289402723.3', '476814537.9'),\n",
              " ('\"Iran', 'IRN', '9025208.2', '32761505.6'),\n",
              " ('Jamaica', '93733672.1', '112848973.6', '19718160.9'),\n",
              " ('Jordan', '230204467.2', '175484307.3', '62136103.7'),\n",
              " ('Kazakhstan', '44784496.7', '254112169.3', '49233512.4'),\n",
              " ('Kenya', '515101268.1', '1582905042', '342056817'),\n",
              " ('Kosovo', '5173195.2', '29959141.9', '1704127.3'),\n",
              " ('Kyrgyz Republic', '62213250.6', '153027414.4', '43802082.9'),\n",
              " ('Lao PDR', '346861942.2', '966004791.1', '134508386.6'),\n",
              " ('Least developed countries: UN classification',\n",
              "  '12944703036.6',\n",
              "  '23333956388.4',\n",
              "  '3029826352.3'),\n",
              " ('Lebanon', '137130312.1', '129913451.7', '16970779.5'),\n",
              " ('Lesotho', '12806231.5', '13239867.2', '2704841.4'),\n",
              " ('Liberia', '602095.8', '33122214.9', '2971664.1'),\n",
              " ('\"Macedonia', 'MKD', '47665668.9', '15758935.3'),\n",
              " ('Madagascar', '34102362.9', '201529156.1', '3611119.1'),\n",
              " ('Malawi', '21762541.7', '26559943.3', '7850229.4'),\n",
              " ('Maldives', '48054924.5', '171056385.2', '17789090.5'),\n",
              " ('Mali', '80562273.4', '174563540.6', '14961901.1'),\n",
              " ('Mauritania', '197041185.1', '262893890.2', '39896318.9'),\n",
              " ('Mauritius', '113174983.3', '43276477.1', '13702507.5'),\n",
              " ('Mexico', '382457219.1', '10959800', '59839853.4'),\n",
              " ('Moldova', '52456210.6', '31959827.1', '3292727.3'),\n",
              " ('Mongolia', '52159543.5', '122040716.9', '23580386.5'),\n",
              " ('Montenegro', '127450152.9', '159653202.4', '20505157.3'),\n",
              " ('Morocco', '742287180.6', '381225311.4', '147741097.6'),\n",
              " ('Mozambique', '307444585.4', '428319700.7', '89226721.5'),\n",
              " ('Myanmar', '519713545.7', '704626596.3', '217742156'),\n",
              " ('Nepal', '48512381.5', '211256468.1', '8120651.8'),\n",
              " ('Nicaragua', '33414678.5', '91410630.2', '9117269.5'),\n",
              " ('Niger', '38815599.9', '150675402.1', '20553332.6'),\n",
              " ('Nigeria', '86761615.4', '197807330.6', '69169718.3'),\n",
              " ('Pakistan', '2175483884.5', '3281555124', '719897921.2'),\n",
              " ('Papua New Guinea', '30768505.2', '272745704.4', '17727088.6'),\n",
              " ('Paraguay', '58314162.7', '132431540.4', '5158922.3'),\n",
              " ('Peru', '114574694.7', '123873090.2', '20175359.1'),\n",
              " ('Philippines', '670475417.9', '544148527.8', '104237992.9'),\n",
              " ('Romania', '46961486.3', '115066917.8', '8014478.4'),\n",
              " ('Russian Federation', '69924222.2', '', '11030000'),\n",
              " ('Rwanda', '8604526', '69086251.9', '7310975.7'),\n",
              " ('Samoa', '11727921.8', '3362614.4', '2965245'),\n",
              " ('Sao Tome and Principe', '522448.7', '1918.9', '802594.2'),\n",
              " ('Senegal', '132241030.2', '548648509.1', '62856549.3'),\n",
              " ('Serbia', '328727524.6', '703434606.4', '156469393.1'),\n",
              " ('Sierra Leone', '8755657.7', '32566565', '2736397.7'),\n",
              " ('Solomon Islands', '1207375', '', '284000'),\n",
              " ('Somalia', '8301771.4', '', '925000'),\n",
              " ('South Africa', '', '', ''),\n",
              " ('South Asia', '6437804448.1', '17269114040.9', '2004917449.3'),\n",
              " ('Sri Lanka', '1075437996.6', '1729975495.9', '270096709.9'),\n",
              " ('St. Lucia', '5113457.5', '5713700.5', '1375737.7'),\n",
              " ('St. Vincent and the Grenadines', '3070092.3', '8155461.4', '1181883.8'),\n",
              " ('Sudan', '262918897.8', '376666146.5', '40572544.5'),\n",
              " ('Syrian Arab Republic', '159358328.9', '126505578', '9269996.5'),\n",
              " ('Tajikistan', '73281257.2', '4600834.4', '26333637.2'),\n",
              " ('Tanzania', '194944695.3', '150348676', '40941173.9'),\n",
              " ('Thailand', '277799616.8', '301616651.9', '59731471.1'),\n",
              " ('Timor-Leste', '', '9869907', ''),\n",
              " ('Togo', '25160550.3', '79978552.9', '12931550.3'),\n",
              " ('Tonga', '7554054', '', '1559371'),\n",
              " ('Tunisia', '507052864.2', '855186119.9', '87248174.8'),\n",
              " ('Turkey', '646463879.8', '415269075.4', '110410777.7'),\n",
              " ('Turkmenistan', '14046164.6', '', '2505907.3'),\n",
              " ('Uganda', '64110341.2', '538450864.4', '73813147'),\n",
              " ('Ukraine', '95941219.4', '', '19809816.8'),\n",
              " ('Uzbekistan', '273378640', '503520641.3', '64937572.1'),\n",
              " ('Vanuatu', '10956691', '9007166.6', '3160158.4'),\n",
              " ('\"Venezuela', 'VEN', '2745605240.9', '102206207.3'),\n",
              " ('Vietnam', '1561158600.3', '4134438674.8', '502741840.9'),\n",
              " ('\"Yemen', 'YEM', '', ''),\n",
              " ('Zambia', '211048374.3', '711130463.7', '121800491.2'),\n",
              " ('Zimbabwe', '71794214.8', '42332836.7', '11769908.3')]"
            ]
          },
          "metadata": {
            "tags": []
          },
          "execution_count": 196
        }
      ]
    },
    {
      "cell_type": "code",
      "metadata": {
        "id": "Jk4hTsXv-R11"
      },
      "source": [
        "indicador = filtro.filter(lambda x: not '\"Congo' in x[0])\\\r\n",
        "                  .filter(lambda x: not '\"Egypt' in x[0])\\\r\n",
        "                  .filter(lambda x: not '\"Gambia' in x[0])\\\r\n",
        "                  .filter(lambda x: not '\"Iran' in x[0])\\\r\n",
        "                  .filter(lambda x: not '\"Macedonia' in x[0])\\\r\n",
        "                  .filter(lambda x: not 'Timor-Leste' in x[0])\\\r\n",
        "                  .filter(lambda x: not 'South Africa' in x[0])\\\r\n",
        "                  .filter(lambda x: not '\"Yemen' in x[0])\\\r\n",
        "                  .filter(lambda x: not '\"Venezuela' in x[0])\\\r\n",
        "                  .filter(lambda x: not 'Least developed countries: UN classification' in x[0])\\\r\n",
        "                  .filter(lambda x: not 'St. Lucia' in x[0])\\\r\n",
        "                  .filter(lambda x: not 'Somalia' in x[0])\\\r\n",
        "                  .filter(lambda x: not 'St. Lucia' in x[0])\\\r\n",
        "                  .filter(lambda x: not 'Tonga' in x[0])\\\r\n",
        "                  .filter(lambda x: not 'St. Vincent and the Grenadines' in x[0])\\\r\n",
        "                  .filter(lambda x: not 'Guinea-Bissau' in x[0]).persist() # para que quede guardado en la memoria\r\n",
        "columna1 =indicador.map(lambda x: (tofloat(x[1]))).mean()\r\n",
        "columna2= indicador.map(lambda x: (tofloat(x[2]))).mean()\r\n",
        "columna3=indicador.filter(lambda x: x[3] != \"\").map(lambda x: (tofloat(x[3]))).mean()"
      ],
      "execution_count": null,
      "outputs": []
    },
    {
      "cell_type": "code",
      "metadata": {
        "colab": {
          "base_uri": "https://localhost:8080/"
        },
        "id": "djzu8LJTH6Tk",
        "outputId": "e1e7ebc6-87c0-4497-fc22-c0c13a5cc103"
      },
      "source": [
        "print(\"La media de la columna 1 es {}\".format(round(columna1)))\r\n",
        "print(\"La media de la columna 2 es {}\".format(round(columna2)))\r\n",
        "print(\"La media de la columna 3 es {}\".format(round(columna3)))"
      ],
      "execution_count": null,
      "outputs": [
        {
          "output_type": "stream",
          "text": [
            "La media de la columna 1 es 614452236\n",
            "La media de la columna 2 es 991195020\n",
            "La media de la columna 3 es 151600343\n"
          ],
          "name": "stdout"
        }
      ]
    },
    {
      "cell_type": "markdown",
      "metadata": {
        "id": "Vsfg5rhXOH8b"
      },
      "source": [
        "##### 5. Los 20 paises con DT.AMT.DLXF.CD más alto"
      ]
    },
    {
      "cell_type": "code",
      "metadata": {
        "colab": {
          "base_uri": "https://localhost:8080/"
        },
        "id": "LBJSdjLAEXWG",
        "outputId": "4f2b6b4d-e4e4-43c4-ac83-ecc8ab26955b"
      },
      "source": [
        "hdeuda=deuda_sin_cabecera.first()\r\n",
        "# 27 es el numero de columnas\r\n",
        "deuda_sin_cabecera.filter(lambda x: x != hdeuda).map(lambda x: parsed2(x,27)).map(lambda x: (x[0],x[3])).\\\r\n",
        "takeOrdered(20,lambda x: -float(x[1])) #-float para que me lo ordene de forma descendente y me quede el maximo el primero"
      ],
      "execution_count": null,
      "outputs": [
        {
          "output_type": "execute_result",
          "data": {
            "text/plain": [
              "[('China', '96218620835.7'),\n",
              " ('Brazil', '90041840304.1'),\n",
              " ('Russian Federation', '66589761833.5'),\n",
              " ('Turkey', '51555031005.8'),\n",
              " ('South Asia', '48756295898.2'),\n",
              " ('India', '31923507000.8'),\n",
              " ('Indonesia', '30916112653.8'),\n",
              " ('Kazakhstan', '27482093686.4'),\n",
              " ('Mexico', '25218503927'),\n",
              " ('Least developed countries: UN classification', '25197029299.4'),\n",
              " ('IDA only', '20483289208'),\n",
              " ('Romania', '14013783350.4'),\n",
              " ('Colombia', '11985674438.7'),\n",
              " ('Angola', '11067045628.1'),\n",
              " ('Cameroon', '10404814960.2'),\n",
              " ('\"Venezuela RB\"', '9878659207.2'),\n",
              " ('\"Egypt Arab Rep.\"', '9692114176.9'),\n",
              " ('Lebanon', '9506919669.6'),\n",
              " ('South Africa', '9474257551.9'),\n",
              " ('Vietnam', '8873505909.2')]"
            ]
          },
          "metadata": {
            "tags": []
          },
          "execution_count": 102
        }
      ]
    },
    {
      "cell_type": "markdown",
      "metadata": {
        "id": "34JBNkr9OH8c"
      },
      "source": [
        "##### 6. Pais con los datos informados todos los años."
      ]
    },
    {
      "cell_type": "code",
      "metadata": {
        "id": "Q3DHfz16OaTD"
      },
      "source": [
        "desarrollo_pars.map(lambda x: (x[0], x[2])).sortBy(lambda x: x[0], ascending = False).distinct().collect()"
      ],
      "execution_count": null,
      "outputs": []
    },
    {
      "cell_type": "code",
      "metadata": {
        "colab": {
          "base_uri": "https://localhost:8080/"
        },
        "id": "2aVjJsYyWhdI",
        "outputId": "3d38e527-37cb-4751-9b61-d0e2d1a776d0"
      },
      "source": [
        "pais =desarrollo_pars.filter(lambda x: \"2017\" in x[2]).map(lambda x: (x[0])).collect()\r\n",
        "print(\"El país con datos de todos los años es\" ,format(pais))"
      ],
      "execution_count": null,
      "outputs": [
        {
          "output_type": "stream",
          "text": [
            "El país con datos de todos los años es ['Malawi']\n"
          ],
          "name": "stdout"
        }
      ]
    },
    {
      "cell_type": "markdown",
      "metadata": {
        "id": "D8BtECwgOH8c"
      },
      "source": [
        "##### 7. Media anual de los distintos indicadores de desarrollo"
      ]
    },
    {
      "cell_type": "code",
      "metadata": {
        "id": "zvF-_4ska88R"
      },
      "source": [
        "from pyspark.sql import *\r\n",
        "from pyspark.sql import SQLContext, functions as F, Row\r\n",
        "from pyspark.sql.types import *\r\n",
        "from pyspark.sql.types import StringType, IntegerType"
      ],
      "execution_count": null,
      "outputs": []
    },
    {
      "cell_type": "code",
      "metadata": {
        "id": "WZbrz_JNistE"
      },
      "source": [
        "datos = pd.read_csv('indicadores_desarrollo.csv', sep =',', names=[\"country_name\", \"country_code\",\"anho\",\"GC_DOD_TOTL_CN\",\"GC_DOD_TOTL_GD_ZS\", \"SP_DYN_CBRT_IN\"], skiprows=1)"
      ],
      "execution_count": null,
      "outputs": []
    },
    {
      "cell_type": "code",
      "metadata": {
        "colab": {
          "base_uri": "https://localhost:8080/"
        },
        "id": "pE51FSMZgiBM",
        "outputId": "720204da-cbd4-4c9a-8adf-f996d890282b"
      },
      "source": [
        "df_desarrollo = sqlContext.createDataFrame(datos)\r\n",
        "df_desarrollo.show(10)"
      ],
      "execution_count": null,
      "outputs": [
        {
          "output_type": "stream",
          "text": [
            "+------------+------------+-------------+---------------+-------------------+------------------+\n",
            "|country_name|country_code|         anho| GC_DOD_TOTL_CN|  GC_DOD_TOTL_GD_ZS|    SP_DYN_CBRT_IN|\n",
            "+------------+------------+-------------+---------------+-------------------+------------------+\n",
            "|     Albania|         ALB|2014 [YR2014]|   1.0230408E12|  73.32024691984292|            12.259|\n",
            "|     Albania|         ALB|2015 [YR2015]|  1.14550094E12|   79.8644448747259|12.197000000000001|\n",
            "|     Albania|         ALB|2016 [YR2016]|  1.18881449E12|  80.73557483969229|             12.08|\n",
            "|   Australia|         AUS|2014 [YR2014]|        6.747E8|  0.042207528166503|              13.2|\n",
            "|   Australia|         AUS|2015 [YR2015]|      7.62718E8| 0.0469480198522591|              12.9|\n",
            "|   Australia|         AUS|2016 [YR2016]|      9.07555E8|0.05464848252016901|              12.9|\n",
            "|Bahamas, The|         BHS|2014 [YR2014]|      5.15842E9|   47.2672793747079|             14.34|\n",
            "|Bahamas, The|         BHS|2015 [YR2015]|      5.65515E9|  48.11951703070889|            14.224|\n",
            "|Bahamas, The|         BHS|2016 [YR2016]|     6.138814E9| 51.420743148160604|14.130999999999998|\n",
            "|    Barbados|         BRB|2014 [YR2014]|1.2175704025E10|   129.629591844133|10.915999999999999|\n",
            "+------------+------------+-------------+---------------+-------------------+------------------+\n",
            "only showing top 10 rows\n",
            "\n"
          ],
          "name": "stdout"
        }
      ]
    },
    {
      "cell_type": "code",
      "metadata": {
        "colab": {
          "base_uri": "https://localhost:8080/"
        },
        "id": "hG_IPwolgiFa",
        "outputId": "fc7d13ef-d44a-4150-c5b0-f6e52d61156c"
      },
      "source": [
        "df_desarrollo.groupby('anho').agg(F.mean('GC_DOD_TOTL_CN')).show()"
      ],
      "execution_count": null,
      "outputs": [
        {
          "output_type": "stream",
          "text": [
            "+-------------+--------------------+\n",
            "|         anho| avg(GC_DOD_TOTL_CN)|\n",
            "+-------------+--------------------+\n",
            "|2016 [YR2016]|1.588138215480659...|\n",
            "|2014 [YR2014]|1.034427587329532...|\n",
            "|2017 [YR2017]| 2.23985861996269E12|\n",
            "|2015 [YR2015]|1.318244039159025E14|\n",
            "+-------------+--------------------+\n",
            "\n"
          ],
          "name": "stdout"
        }
      ]
    },
    {
      "cell_type": "code",
      "metadata": {
        "colab": {
          "base_uri": "https://localhost:8080/"
        },
        "id": "OIlCgzVQ3qBB",
        "outputId": "74040938-f4b3-4639-8fa7-d15c4f8777f7"
      },
      "source": [
        "df_desarrollo.groupby('anho').agg(F.mean('GC_DOD_TOTL_GD_ZS')).show()"
      ],
      "execution_count": null,
      "outputs": [
        {
          "output_type": "stream",
          "text": [
            "+-------------+----------------------+\n",
            "|         anho|avg(GC_DOD_TOTL_GD_ZS)|\n",
            "+-------------+----------------------+\n",
            "|2016 [YR2016]|    58.796949624008356|\n",
            "|2014 [YR2014]|    56.843914344384395|\n",
            "|2017 [YR2017]|       48.659564238322|\n",
            "|2015 [YR2015]|     58.36559834488034|\n",
            "+-------------+----------------------+\n",
            "\n"
          ],
          "name": "stdout"
        }
      ]
    },
    {
      "cell_type": "code",
      "metadata": {
        "colab": {
          "base_uri": "https://localhost:8080/"
        },
        "id": "Dszv34Nd3qKj",
        "outputId": "28ae292f-d5e3-4b33-ebc5-f6d6694883df"
      },
      "source": [
        "df_desarrollo.groupby('anho').agg(F.mean('SP_DYN_CBRT_IN')).show()"
      ],
      "execution_count": null,
      "outputs": [
        {
          "output_type": "stream",
          "text": [
            "+-------------+-------------------+\n",
            "|         anho|avg(SP_DYN_CBRT_IN)|\n",
            "+-------------+-------------------+\n",
            "|2016 [YR2016]| 16.144333333333332|\n",
            "|2014 [YR2014]| 17.582620000000002|\n",
            "|2017 [YR2017]|             34.593|\n",
            "|2015 [YR2015]| 16.798477272727272|\n",
            "+-------------+-------------------+\n",
            "\n"
          ],
          "name": "stdout"
        }
      ]
    },
    {
      "cell_type": "markdown",
      "metadata": {
        "id": "v9Fss504OH8d"
      },
      "source": [
        "##### 8. Podrías decirme el total de deuda acumulada DT.AMT.MLAT.CD por los 10 países con un valor en media menor de SP.DYN.CBRT.IN"
      ]
    },
    {
      "cell_type": "code",
      "metadata": {
        "id": "Sj0UtYcar7-x"
      },
      "source": [
        "# funciones\r\n",
        "from pyspark.sql.functions import col, avg, desc, sum"
      ],
      "execution_count": null,
      "outputs": []
    },
    {
      "cell_type": "markdown",
      "metadata": {
        "id": "oheBxjjg9oeO"
      },
      "source": [
        "Creamos los dataframe para poder trabajar con ellos."
      ]
    },
    {
      "cell_type": "code",
      "metadata": {
        "colab": {
          "base_uri": "https://localhost:8080/"
        },
        "id": "lGHYYnrRr8Ay",
        "outputId": "2b034d5c-a18a-4f89-8bef-8e63fa97e82c"
      },
      "source": [
        "# dataframe de desarrollo\r\n",
        "df_desarrollo = pd.read_csv(data_file_desarrollo)\r\n",
        "desarrollo_df = sqlContext.createDataFrame(df_desarrollo)\r\n",
        "desarrollo_df.show(5)"
      ],
      "execution_count": null,
      "outputs": [
        {
          "output_type": "stream",
          "text": [
            "+------------+------------+-------------+--------------+------------------+------------------+\n",
            "|country_name|country_code|         anho|GC.DOD.TOTL.CN| GC.DOD.TOTL.GD.ZS|    SP.DYN.CBRT.IN|\n",
            "+------------+------------+-------------+--------------+------------------+------------------+\n",
            "|     Albania|         ALB|2014 [YR2014]|  1.0230408E12| 73.32024691984292|            12.259|\n",
            "|     Albania|         ALB|2015 [YR2015]| 1.14550094E12|  79.8644448747259|12.197000000000001|\n",
            "|     Albania|         ALB|2016 [YR2016]| 1.18881449E12| 80.73557483969229|             12.08|\n",
            "|   Australia|         AUS|2014 [YR2014]|       6.747E8| 0.042207528166503|              13.2|\n",
            "|   Australia|         AUS|2015 [YR2015]|     7.62718E8|0.0469480198522591|              12.9|\n",
            "+------------+------------+-------------+--------------+------------------+------------------+\n",
            "only showing top 5 rows\n",
            "\n"
          ],
          "name": "stdout"
        }
      ]
    },
    {
      "cell_type": "code",
      "metadata": {
        "colab": {
          "base_uri": "https://localhost:8080/"
        },
        "id": "ZLKzmpNN9F0u",
        "outputId": "caf9fdb2-bec8-497b-8369-989ce8c6334d"
      },
      "source": [
        "#dataframe de deuda\r\n",
        "df_deuda = pd.read_csv(data_file_deuda)\r\n",
        "deuda_df = sqlContext.createDataFrame(df_deuda)\r\n",
        "deuda_df.show(5)"
      ],
      "execution_count": null,
      "outputs": [
        {
          "output_type": "stream",
          "text": [
            "+------------+------------+--------------+----------------+--------------+--------------+--------------+--------------+--------------+--------------+--------------+--------------+----------------+--------------+--------------+--------------+--------------+--------------+--------------+--------------+--------------+--------------+--------------+--------------+--------------+--------------+--------------+\n",
            "|country_name|country_code|DT.AMT.BLAT.CD|  DT.AMT.DLXF.CD|DT.AMT.DPNG.CD|DT.AMT.MLAT.CD|DT.AMT.OFFT.CD|DT.AMT.PBND.CD|DT.AMT.PCBK.CD|DT.AMT.PROP.CD|DT.AMT.PRVT.CD|DT.DIS.BLAT.CD|  DT.DIS.DLXF.CD|DT.DIS.MLAT.CD|DT.DIS.OFFT.CD|DT.DIS.PCBK.CD|DT.DIS.PROP.CD|DT.DIS.PRVT.CD|DT.INT.BLAT.CD|DT.INT.DLXF.CD|DT.INT.DPNG.CD|DT.INT.MLAT.CD|DT.INT.OFFT.CD|DT.INT.PBND.CD|DT.INT.PCBK.CD|DT.INT.PROP.CD|DT.INT.PRVT.CD|\n",
            "+------------+------------+--------------+----------------+--------------+--------------+--------------+--------------+--------------+--------------+--------------+--------------+----------------+--------------+--------------+--------------+--------------+--------------+--------------+--------------+--------------+--------------+--------------+--------------+--------------+--------------+--------------+\n",
            "| Afghanistan|         AFG|  6.17393369E7|   1.008471819E8|           NaN|   3.9107845E7| 1.008471819E8|           NaN|           NaN|           NaN|           NaN|  4.91147294E7|    7.28944537E7|  2.37797243E7|  7.28944537E7|           NaN|           NaN|           NaN|  3.99036201E7|  5.32394401E7|           NaN|    1.333582E7|  5.32394401E7|           NaN|           NaN|           NaN|           NaN|\n",
            "|     Albania|         ALB|  5.42502806E7|   7.902486752E8|   5.1418562E8| 1.821976167E8| 2.364478973E8|           0.0|  3.94451395E7|      170018.4|  3.96151579E7|  7.60506161E7|   3.171945125E8| 2.343212423E8| 3.103718584E8|     4542664.9|     2279989.2|     6822654.1|  1.38473336E7| 1.656023869E8|      8.7884E7|  2.81015361E7|  4.19488697E7|  3.10306882E7|     4618504.3|      120324.7|  3.57695172E7|\n",
            "|     Algeria|         DZA|  9.51887246E7|   1.711851881E8|       7.542E7|           0.0|  9.51887246E7|           NaN|      576463.5|           0.0|      576463.5|  1.03207722E7|    1.03207722E7|           NaN|  1.03207722E7|           NaN|           NaN|           NaN|     7680627.6|  1.90317287E7|     3220000.0|     8094779.0|  1.57754066E7|           NaN|       13192.3|       23129.8|       36322.1|\n",
            "|      Angola|         AGO|8.4738240163E9|1.10670456281E10|           NaN| 1.246886919E8|8.5985127082E9|         1.0E9|1.1250887199E9|    3.434442E8|2.4685329199E9|8.8382569011E9|1.09240180931E10| 1.789895982E8|9.0172464993E9|1.9067715938E9|           NaN|1.9067715938E9|1.0050539651E9|1.7985504455E9|           NaN|  4.70384761E7|1.0520924412E9|         7.0E7| 5.809020043E8|      9.5556E7| 7.464580043E8|\n",
            "|     Armenia|         ARM|  6.89683147E7|   8.456307238E8|   6.8069619E8|  9.43312071E7| 1.632995218E8|           0.0|     1635012.0|           NaN|     1635012.0| 1.742698467E8|   4.269591756E8| 2.526893289E8| 4.269591756E8|           NaN|           NaN|           NaN|   2.4094832E7| 2.752929811E8|     1.28076E8|  5.71714639E7|  8.12662959E7|      6.5754E7|      196685.2|           NaN|  6.59506852E7|\n",
            "+------------+------------+--------------+----------------+--------------+--------------+--------------+--------------+--------------+--------------+--------------+--------------+----------------+--------------+--------------+--------------+--------------+--------------+--------------+--------------+--------------+--------------+--------------+--------------+--------------+--------------+--------------+\n",
            "only showing top 5 rows\n",
            "\n"
          ],
          "name": "stdout"
        }
      ]
    },
    {
      "cell_type": "markdown",
      "metadata": {
        "id": "QFNWSo429uHU"
      },
      "source": [
        "A continuación los unimos"
      ]
    },
    {
      "cell_type": "code",
      "metadata": {
        "colab": {
          "base_uri": "https://localhost:8080/"
        },
        "id": "UQ35weYir8Eu",
        "outputId": "5c71a3c6-32d0-4f3c-8a5d-9f11cb35e650"
      },
      "source": [
        "union = desarrollo_df.join(other=deuda_df, on=[\"country_name\"], how=\"inner\")\r\n",
        "union.show(5)"
      ],
      "execution_count": null,
      "outputs": [
        {
          "output_type": "stream",
          "text": [
            "+------------+------------+-------------+-------------------+------------------+------------------+------------+--------------+----------------+--------------+--------------+--------------+--------------+--------------+--------------+--------------+--------------+--------------+--------------+--------------+--------------+--------------+--------------+--------------+----------------+--------------+--------------+--------------+--------------+--------------+--------------+--------------+\n",
            "|country_name|country_code|         anho|     GC.DOD.TOTL.CN| GC.DOD.TOTL.GD.ZS|    SP.DYN.CBRT.IN|country_code|DT.AMT.BLAT.CD|  DT.AMT.DLXF.CD|DT.AMT.DPNG.CD|DT.AMT.MLAT.CD|DT.AMT.OFFT.CD|DT.AMT.PBND.CD|DT.AMT.PCBK.CD|DT.AMT.PROP.CD|DT.AMT.PRVT.CD|DT.DIS.BLAT.CD|DT.DIS.DLXF.CD|DT.DIS.MLAT.CD|DT.DIS.OFFT.CD|DT.DIS.PCBK.CD|DT.DIS.PROP.CD|DT.DIS.PRVT.CD|DT.INT.BLAT.CD|  DT.INT.DLXF.CD|DT.INT.DPNG.CD|DT.INT.MLAT.CD|DT.INT.OFFT.CD|DT.INT.PBND.CD|DT.INT.PCBK.CD|DT.INT.PROP.CD|DT.INT.PRVT.CD|\n",
            "+------------+------------+-------------+-------------------+------------------+------------------+------------+--------------+----------------+--------------+--------------+--------------+--------------+--------------+--------------+--------------+--------------+--------------+--------------+--------------+--------------+--------------+--------------+--------------+----------------+--------------+--------------+--------------+--------------+--------------+--------------+--------------+\n",
            "| Philippines|         PHL|2014 [YR2014]|        5.735242E12|45.394627179381196|            22.935|         PHL| 6.704754179E8|  6.4791709177E9|3.8996374599E9| 7.390564273E8|1.4095318452E9|     9.03941E8| 2.151195881E8|  5.09410245E7|1.1700016126E9| 5.441485278E8|1.5993765863E9| 8.513997524E8|1.3955482802E9| 1.628049362E8|  4.10233699E7| 2.038283061E8| 1.042379929E8|  1.8354902443E9|     6.90769E8| 2.545594869E8| 3.587974798E8| 7.675144059E8|  1.67180309E7|     1691327.7| 7.859237645E8|\n",
            "|       Tonga|         TON|2014 [YR2014]|       3.78478931E8|    47.04523691734|            25.756|         TON|     7554054.0|    1.03699106E7|           NaN|     2791253.2|  1.03453072E7|           NaN|       24603.4|           NaN|       24603.4|           NaN|     5529604.8|     5529604.8|     5529604.8|           NaN|           NaN|           NaN|     1559371.0|       2503586.2|           NaN|      944215.2|     2503586.2|           NaN|           0.0|           NaN|           0.0|\n",
            "|       Tonga|         TON|2015 [YR2015]|       4.34560045E8|51.360364614111795|            25.354|         TON|     7554054.0|    1.03699106E7|           NaN|     2791253.2|  1.03453072E7|           NaN|       24603.4|           NaN|       24603.4|           NaN|     5529604.8|     5529604.8|     5529604.8|           NaN|           NaN|           NaN|     1559371.0|       2503586.2|           NaN|      944215.2|     2503586.2|           NaN|           0.0|           NaN|           0.0|\n",
            "|       Tonga|         TON|2016 [YR2016]|        4.6083562E8|  51.8083889825745|24.976999999999997|         TON|     7554054.0|    1.03699106E7|           NaN|     2791253.2|  1.03453072E7|           NaN|       24603.4|           NaN|       24603.4|           NaN|     5529604.8|     5529604.8|     5529604.8|           NaN|           NaN|           NaN|     1559371.0|       2503586.2|           NaN|      944215.2|     2503586.2|           NaN|           0.0|           NaN|           0.0|\n",
            "|      Turkey|         TUR|2014 [YR2014]|6.45312129880536E11|31.563849390292802|             16.94|         TUR| 6.464638798E8|5.15550310058E10|3.991619743E10| 2.932698678E9|3.5791625578E9|    6.499125E9|1.5272439531E9|  3.33020649E7| 8.059671018E9| 4.152690754E8|2.5144431471E9|1.5895239021E9|2.0047929775E9| 5.096501696E8|           NaN| 5.096501696E8| 1.104107777E8|1.20955686422E10|  7.45317292E9| 5.246171909E8| 6.350279686E8| 3.786751212E9| 2.200440398E8|      572501.8|4.0073677536E9|\n",
            "+------------+------------+-------------+-------------------+------------------+------------------+------------+--------------+----------------+--------------+--------------+--------------+--------------+--------------+--------------+--------------+--------------+--------------+--------------+--------------+--------------+--------------+--------------+--------------+----------------+--------------+--------------+--------------+--------------+--------------+--------------+--------------+\n",
            "only showing top 5 rows\n",
            "\n"
          ],
          "name": "stdout"
        }
      ]
    },
    {
      "cell_type": "code",
      "metadata": {
        "id": "rlh0a3bREaUo"
      },
      "source": [
        "# Para renombrar (porque nos da probelmas) las columnas utilizaremos la función withColumnRenamned()\r\n",
        "df = union.withColumnRenamed(\"anho\", \"year\") \\\r\n",
        "    .withColumnRenamed(\"DT.AMT.MLAT.CD\", \"deuda\") \\\r\n",
        "    .withColumnRenamed(\"SP.DYN.CBRT.IN\", \"birthdate\")"
      ],
      "execution_count": null,
      "outputs": []
    },
    {
      "cell_type": "code",
      "metadata": {
        "colab": {
          "base_uri": "https://localhost:8080/"
        },
        "id": "nfA0L3UyEoED",
        "outputId": "ff10f649-16eb-4931-88a4-a236d58f0b40"
      },
      "source": [
        "colum = df.select(\"country_name\",\"deuda\",\"birthdate\")\r\n",
        "colum.show()\r\n"
      ],
      "execution_count": null,
      "outputs": [
        {
          "output_type": "stream",
          "text": [
            "+------------+-------------+------------------+\n",
            "|country_name|        deuda|         birthdate|\n",
            "+------------+-------------+------------------+\n",
            "| Philippines|7.390564273E8|            22.935|\n",
            "|       Tonga|    2791253.2|            25.756|\n",
            "|       Tonga|    2791253.2|            25.354|\n",
            "|       Tonga|    2791253.2|24.976999999999997|\n",
            "|      Turkey|2.932698678E9|             16.94|\n",
            "|      Turkey|2.932698678E9|            16.718|\n",
            "|      Turkey|2.932698678E9|            16.494|\n",
            "|      Malawi| 3.56598314E7|            36.629|\n",
            "|      Malawi| 3.56598314E7|            35.839|\n",
            "|      Malawi| 3.56598314E7|35.163000000000004|\n",
            "|      Malawi| 3.56598314E7|            34.593|\n",
            "|      Jordan|2.704987155E8|25.214000000000002|\n",
            "|      Jordan|2.704987155E8|            23.396|\n",
            "|   Sri Lanka|4.497719611E8|            16.849|\n",
            "|   Sri Lanka|4.497719611E8|            16.609|\n",
            "|     Albania|1.821976167E8|            12.259|\n",
            "|     Albania|1.821976167E8|12.197000000000001|\n",
            "|     Albania|1.821976167E8|             12.08|\n",
            "|        Peru|  5.5363409E8|            18.827|\n",
            "|        Peru|  5.5363409E8|            18.544|\n",
            "+------------+-------------+------------------+\n",
            "only showing top 20 rows\n",
            "\n"
          ],
          "name": "stdout"
        }
      ]
    },
    {
      "cell_type": "code",
      "metadata": {
        "colab": {
          "base_uri": "https://localhost:8080/"
        },
        "id": "EShLZSdHE_rI",
        "outputId": "b421c817-256e-4893-b54a-5723de5ba3e0"
      },
      "source": [
        "# agrupamos\r\n",
        "total = colum.groupBy(\"country_name\", \"deuda\").agg(avg(\"birthdate\"))\r\n",
        "total.show()"
      ],
      "execution_count": null,
      "outputs": [
        {
          "output_type": "stream",
          "text": [
            "+------------------+--------------+------------------+\n",
            "|      country_name|         deuda|    avg(birthdate)|\n",
            "+------------------+--------------+------------------+\n",
            "|       Philippines| 7.390564273E8|            22.935|\n",
            "|             Tonga|     2791253.2| 25.36233333333333|\n",
            "|            Turkey| 2.932698678E9|16.717333333333332|\n",
            "|            Malawi|  3.56598314E7|            35.556|\n",
            "|            Jordan| 2.704987155E8|            24.305|\n",
            "|         Sri Lanka| 4.497719611E8|            16.729|\n",
            "|           Albania| 1.821976167E8|12.178666666666667|\n",
            "|              Peru|   5.5363409E8|18.564666666666668|\n",
            "|         St. Lucia|  1.50192163E7|            12.502|\n",
            "|           Belarus|  5.95438826E8|12.466666666666667|\n",
            "|Russian Federation|    1.416695E8|13.166666666666666|\n",
            "|          Thailand|  3.90715715E7|           10.9175|\n",
            "|            Bhutan|  1.73904205E7|            17.791|\n",
            "|           Ukraine|1.0724728303E9|              10.6|\n",
            "|           Georgia| 1.440624015E8|            14.056|\n",
            "|         Indonesia|2.4691458247E9|19.163999999999998|\n",
            "|         Guatemala| 3.398222536E8|25.628666666666664|\n",
            "|            Zambia|  5.30689649E7|           38.2975|\n",
            "|           Jamaica|  1.74427648E8| 16.63566666666667|\n",
            "|   Kyrgyz Republic|  7.52780372E7| 27.03333333333333|\n",
            "+------------------+--------------+------------------+\n",
            "only showing top 20 rows\n",
            "\n"
          ],
          "name": "stdout"
        }
      ]
    },
    {
      "cell_type": "code",
      "metadata": {
        "colab": {
          "base_uri": "https://localhost:8080/"
        },
        "id": "uKS6LVnYFbW0",
        "outputId": "15fa6768-1b33-4892-f169-a25a4702c252"
      },
      "source": [
        "# seleccionamos las 10\r\n",
        "total = total.sort(\"avg(birthdate)\").limit(10)\r\n",
        "total.show()"
      ],
      "execution_count": null,
      "outputs": [
        {
          "output_type": "stream",
          "text": [
            "+--------------------+--------------+------------------+\n",
            "|        country_name|         deuda|    avg(birthdate)|\n",
            "+--------------------+--------------+------------------+\n",
            "|             Ukraine|1.0724728303E9|              10.6|\n",
            "|             Moldova| 1.358428655E8|10.604333333333335|\n",
            "|            Thailand|  3.90715715E7|           10.9175|\n",
            "|             Albania| 1.821976167E8|12.178666666666667|\n",
            "|             Belarus|  5.95438826E8|12.466666666666667|\n",
            "|           St. Lucia|  1.50192163E7|            12.502|\n",
            "|  Russian Federation|    1.416695E8|13.166666666666666|\n",
            "|             Georgia| 1.440624015E8|            14.056|\n",
            "|              Brazil|2.5143187416E9|14.467666666666668|\n",
            "|St. Vincent and t...|  2.16156007E7|            15.011|\n",
            "+--------------------+--------------+------------------+\n",
            "\n"
          ],
          "name": "stdout"
        }
      ]
    },
    {
      "cell_type": "code",
      "metadata": {
        "colab": {
          "base_uri": "https://localhost:8080/"
        },
        "id": "miRwbprQFoHC",
        "outputId": "a7594aa0-30c1-44a8-f7b1-d0a94b59f558"
      },
      "source": [
        "# sumamos todo\r\n",
        "total.select(sum(\"deuda\")).show()"
      ],
      "execution_count": null,
      "outputs": [
        {
          "output_type": "stream",
          "text": [
            "+-------------------+\n",
            "|         sum(deuda)|\n",
            "+-------------------+\n",
            "|4.861709170099999E9|\n",
            "+-------------------+\n",
            "\n"
          ],
          "name": "stdout"
        }
      ]
    },
    {
      "cell_type": "markdown",
      "metadata": {
        "id": "49YEThHdOH8d"
      },
      "source": [
        "##### 9. ¿Hay alguna relación entre los nacimientos y el indicador DT.AMT.DLXF.CD? ¿Cómo podrías demostrarlo?"
      ]
    },
    {
      "cell_type": "code",
      "metadata": {
        "id": "mlKhdVH9kdH8"
      },
      "source": [
        "# funcion para hacer correlacion \r\n",
        "from pyspark.ml.stat import Correlation"
      ],
      "execution_count": null,
      "outputs": []
    },
    {
      "cell_type": "code",
      "metadata": {
        "id": "v7s6nt_LHRbQ"
      },
      "source": [
        "# renombro  \"DT.AMT.DLXF.CD\" porque me da problemas \r\n",
        "renom = df.withColumnRenamed(\"DT.AMT.DLXF.CD\", \"deuda_dlxf\")"
      ],
      "execution_count": null,
      "outputs": []
    },
    {
      "cell_type": "code",
      "metadata": {
        "colab": {
          "base_uri": "https://localhost:8080/"
        },
        "id": "Tz6WIwhVF_is",
        "outputId": "78c7bd96-2d20-4c3c-f9eb-ade6c9ca3bef"
      },
      "source": [
        "# seleccionamos las variables que necesitamos\r\n",
        "select = renom.select(\"birthdate\",\"deuda_dlxf\")\r\n",
        "select.show()"
      ],
      "execution_count": null,
      "outputs": [
        {
          "output_type": "stream",
          "text": [
            "+------------------+----------------+\n",
            "|         birthdate|      deuda_dlxf|\n",
            "+------------------+----------------+\n",
            "|            22.935|  6.4791709177E9|\n",
            "|            25.756|    1.03699106E7|\n",
            "|            25.354|    1.03699106E7|\n",
            "|24.976999999999997|    1.03699106E7|\n",
            "|             16.94|5.15550310058E10|\n",
            "|            16.718|5.15550310058E10|\n",
            "|            16.494|5.15550310058E10|\n",
            "|            36.629|    5.74223731E7|\n",
            "|            35.839|    5.74223731E7|\n",
            "|35.163000000000004|    5.74223731E7|\n",
            "|            34.593|    5.74223731E7|\n",
            "|25.214000000000002|  1.9903434792E9|\n",
            "|            23.396|  1.9903434792E9|\n",
            "|            16.849|  5.7614892559E9|\n",
            "|            16.609|  5.7614892559E9|\n",
            "|            12.259|   7.902486752E8|\n",
            "|12.197000000000001|   7.902486752E8|\n",
            "|             12.08|   7.902486752E8|\n",
            "|            18.827|  5.8812599747E9|\n",
            "|            18.544|  5.8812599747E9|\n",
            "+------------------+----------------+\n",
            "only showing top 20 rows\n",
            "\n"
          ],
          "name": "stdout"
        }
      ]
    },
    {
      "cell_type": "code",
      "metadata": {
        "colab": {
          "base_uri": "https://localhost:8080/"
        },
        "id": "auVa7DhCHuDk",
        "outputId": "464ec8a2-eb8a-4dce-8d70-3a64f1c84f92"
      },
      "source": [
        "# correlacion \r\n",
        "select.stat.corr(\"deuda_dlxf\", \"birthdate\")"
      ],
      "execution_count": null,
      "outputs": [
        {
          "output_type": "execute_result",
          "data": {
            "text/plain": [
              "-0.28663478114959196"
            ]
          },
          "metadata": {
            "tags": []
          },
          "execution_count": 321
        }
      ]
    },
    {
      "cell_type": "markdown",
      "metadata": {
        "id": "UXnrR1J0H_GZ"
      },
      "source": [
        "--------------------"
      ]
    },
    {
      "cell_type": "code",
      "metadata": {
        "id": "fjwgH24MH_8y"
      },
      "source": [
        "# Finalizo el contexto Spark\r\n",
        "sc.stop()"
      ],
      "execution_count": null,
      "outputs": []
    }
  ]
}