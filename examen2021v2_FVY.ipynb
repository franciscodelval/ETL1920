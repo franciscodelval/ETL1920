{
  "nbformat": 4,
  "nbformat_minor": 0,
  "metadata": {
    "kernelspec": {
      "display_name": "Python 3",
      "language": "python",
      "name": "python3"
    },
    "language_info": {
      "codemirror_mode": {
        "name": "ipython",
        "version": 3
      },
      "file_extension": ".py",
      "mimetype": "text/x-python",
      "name": "python",
      "nbconvert_exporter": "python",
      "pygments_lexer": "ipython3",
      "version": "3.7.4"
    },
    "toc": {
      "base_numbering": 1,
      "nav_menu": {},
      "number_sections": true,
      "sideBar": true,
      "skip_h1_title": false,
      "title_cell": "Table of Contents",
      "title_sidebar": "Contents",
      "toc_cell": false,
      "toc_position": {},
      "toc_section_display": true,
      "toc_window_display": true
    },
    "colab": {
      "name": "examen2021v2_FVY.ipynb",
      "provenance": [],
      "collapsed_sections": []
    }
  },
  "cells": [
    {
      "cell_type": "markdown",
      "metadata": {
        "id": "MxBMo3VuWfSg"
      },
      "source": [
        "# **Francisco del Val Yagüe**"
      ]
    },
    {
      "cell_type": "markdown",
      "metadata": {
        "id": "gksFi1m_WoAV"
      },
      "source": [
        "------------------------"
      ]
    },
    {
      "cell_type": "markdown",
      "metadata": {
        "id": "mQFyg91tNTS8"
      },
      "source": [
        "# TAREA FINAL: Datos de vivienda\n",
        "\n",
        "<p> El negocio inmobiliario es uno de los motores de la economía de España, el carácter turístico de nuesta península hace que sean muchos los inversores extranjeros que se decidan por buscar una inversión de bajo riesgos en nuestras ciudades costeras o grandes urbes. \n",
        "Muchas de estas inversiones se hacen sobre grandes bolsas de inmuebles que deben ser analizados previamente para comprobar la rentabilidad del porfolio </p>\n",
        "\n",
        "<!-- <p> En este caso vamos a trabajar con una tabla que contienen información de distintos inmuebles repartidos por una zona específica, sus carácterísticas y su precio </p>  -->"
      ]
    },
    {
      "cell_type": "markdown",
      "metadata": {
        "id": "0zvmkwY1NTTG"
      },
      "source": [
        "Todas las cuestiones se deben realizar sobre el conjunto de casos que representen viviendas ubicadas en zonas residenciales **(alta, media y baja densidad)**"
      ]
    },
    {
      "cell_type": "markdown",
      "metadata": {
        "id": "xt9YZnlLNTTH"
      },
      "source": [
        "**MUY IMPORTANTE:** En las otras prácticas he detectado colaboraciones involucrando varias personas y he sido flexible aunque a algunos os lo he mencionado en las correcciones, porque al final el trabajo de analista de datos es un trabajo colaborativo. Sin embargo, este trabajo es individual, así que cuidado con las colaboraciones."
      ]
    },
    {
      "cell_type": "markdown",
      "metadata": {
        "id": "zTeEqZNANTTH"
      },
      "source": [
        "Las variables de las que se compone el dataset son:"
      ]
    },
    {
      "cell_type": "markdown",
      "metadata": {
        "id": "FWcqdjI4NTTI"
      },
      "source": [
        "|NOMBRE VARIABLE|DESCRIPTOR|VALORES|\n",
        "| --- | --- | --- |\n",
        "|Order|Variable de identificación|1 a 2930|\n",
        "|MS Zoning|Zona de ubicación de la vivienda|\"A rural, C comercial, FV residencial flotante, I industrial, RH residencial alta densidad, RL residencial baja densidad, RM residencial media densidad\"|\n",
        "|Lot Frontage|Longitud de la fachada en pies||\n",
        "|Lot Area|Superficie de la vivienda en pies cuadrados||\n",
        "|Land Contour|Contorno del terreno circundante|\"Lvl llano, Bnk Tipo bancal, HLS Ladera, Low Depresión\"|\n",
        "|Land Slope|Tipo de pendiente de la vivienda|\" Gtl pendiente suave, Mod pendiente moderada, Sev fuerte pendiente\"|\n",
        "|Overall Qual|Grado de calidad de materiales y acabado de la vivienda|De 1 (Muy pobre) a 10 (Excelente)|\n",
        "|Year Built|Año de construccion de la vivienda||\n",
        "|Year Remod/Add|Año de última reforma de la vivienda||\n",
        "|Mas Vnr Type|Tipo de revestimiento exterior|\" BrkCmn Ladrillo normal, BrkFace Ladrillo visto, CBlock Bloque de cemento, None Ninguna, Stone Piedra \"|\n",
        "|Exter Qual|Calidad de revestimiento exterior|\"Ex Excelente,Gd Bueno,TA Media,Fa Justo\"|\n",
        "|Bsmt Cond|Estado general del sótano|\"Ex Excelente, Gd Bueno, TA Media, Fa Justo, Po Pobre,Ss sin sótano\"|\n",
        "|Total Bsmt SF|Superficie del sótano en pies cuadrados|\n",
        "|Heating QC|Calidad de la calefacción|\"Ex Excelente,Gd Bueno,TA Media,Fa Justo,Po Pobre\"|\n",
        "|Central Air|Aire acondicionado centralizado|\"N No Y Sí\"|\n",
        "|Full Bath|Número de baños completo en planta||\n",
        "|Half Bath|Número de aseos en planta||\n",
        "|Bedroom AbvGr|Número de dormitorios en planta||\n",
        "|Kitchen AbvGr|Número de cocinas en planta||\n",
        "|Kitchen Qual|Calidad de cocinas|\"Ex Excelente,Gd Bueno,TA Media,Fa Justo,Po Pobre\"|\n",
        "|TotRms AbvGrd|Número total de habitaciones excluidos los cuartos de baño||\n",
        "|Garage Cars|Número de plazas de garaje||\n",
        "|Garage Area|Superficie del garaje|||\n",
        "|Garage Cond|Estado del garaje|\"Ex Excelente,Gd Bueno,TA Media,Fa Justo,Po Pobre,Sg sin garaje\"|\n",
        "|Pool Area|Superficie de la piscina en pies cuadrados|\n",
        "|Pool QC|Calidad de la piscina|\"Ex Excelente,Gd Bueno,TA Media,Fa Justo,Sp no hay piscina\"|\n",
        "|Mo Sold|mes de venta||\n",
        "|Yr Sold|año de venta||\n",
        "|SalePrice|precio de venta en dólares||"
      ]
    },
    {
      "cell_type": "markdown",
      "metadata": {
        "id": "YyhGqwo9NTTJ"
      },
      "source": [
        "Recomiendo al leer los datos, eliminar espacios de los nombres de las columnas, realiza un pequeño análisis inicial de los mismos. No olvides fijarte en los tipos de variables, que variables pueden tener tipos confundidos y corrige los. Sobre todo, trabaja con las fechas."
      ]
    },
    {
      "cell_type": "markdown",
      "metadata": {
        "id": "eUo9L5CSNTTJ"
      },
      "source": [
        "**NOTA:** Las tareas complementarias sirven para subir nota. El resto de preguntas valen igual y suman 10 puntos."
      ]
    },
    {
      "cell_type": "markdown",
      "metadata": {
        "id": "aT2-jl9eegqP"
      },
      "source": [
        "-------"
      ]
    },
    {
      "cell_type": "markdown",
      "metadata": {
        "id": "Tjmg4Dp0NTTK"
      },
      "source": [
        "## **1. Inicializar y cargar el contexto spark**"
      ]
    },
    {
      "cell_type": "code",
      "metadata": {
        "id": "dr2JVSGlQaMk"
      },
      "source": [
        "# Instalacion\r\n",
        "!apt-get install openjdk-8-jdk-headless -qq > /dev/null\r\n",
        "!wget -q https://www-us.apache.org/dist/spark/spark-2.4.7/spark-2.4.7-bin-hadoop2.7.tgz\r\n",
        "!tar xf spark-2.4.7-bin-hadoop2.7.tgz\r\n",
        "!pip install -q findspark\r\n",
        "\r\n",
        "# Importo un enviroment de java y spark\r\n",
        "import os\r\n",
        "os.environ[\"JAVA_HOME\"] = \"/usr/lib/jvm/java-8-openjdk-amd64\"\r\n",
        "os.environ[\"SPARK_HOME\"] = \"/content/spark-2.4.7-bin-hadoop2.7\"\r\n",
        "\r\n",
        "# Impoero e inicio findspark\r\n",
        "import findspark\r\n",
        "findspark.init()\r\n",
        "\r\n",
        "# Inicio sesion del contexto spark\r\n",
        "from pyspark import SparkContext\r\n",
        "\r\n",
        "#Creo un objeto rdd para trabajar con el\r\n",
        "sc = SparkContext.getOrCreate()\r\n",
        "\r\n",
        "# Importo SparkSession desde pyspark.sql\r\n",
        "from pyspark.sql import SparkSession\r\n",
        "from pyspark.sql import SQLContext\r\n",
        "sqlContext = SQLContext(sc)\r\n",
        "\r\n",
        "# Creacion de objeto llamado spark\r\n",
        "spark = SparkSession.builder.master(\"local[*]\").getOrCreate()"
      ],
      "execution_count": null,
      "outputs": []
    },
    {
      "cell_type": "markdown",
      "metadata": {
        "id": "cmC-pBXFRYNn"
      },
      "source": [
        "### **Carga Base de Datos** "
      ]
    },
    {
      "cell_type": "markdown",
      "metadata": {
        "id": "9YQUqMrVSNFz"
      },
      "source": [
        "1. Carga y Visualización"
      ]
    },
    {
      "cell_type": "code",
      "metadata": {
        "colab": {
          "base_uri": "https://localhost:8080/"
        },
        "id": "BOXVJJxfRgX7",
        "outputId": "19260782-f050-4fbe-e5d3-5dda987b2bf3"
      },
      "source": [
        "data_file_vivienda = \"BDpracticafinalCSV.csv\"\r\n",
        "raw_vivienda = sc.textFile(data_file_vivienda) # leemos el archivo \r\n",
        "raw_vivienda.take(2) # compruebo que se ha cargado bien y cual es el separador"
      ],
      "execution_count": null,
      "outputs": [
        {
          "output_type": "execute_result",
          "data": {
            "text/plain": [
              "['Order;MS Zoning;Lot Frontage;Lot Area;Land Contour;Land Slope;Overall Qual;Year Built;Year Remod/Add;Mas Vnr Type;Exter Qual;Bsmt Cond;Total Bsmt SF;Heating QC;Central Air;Full Bath;Half Bath;Bedroom AbvGr;Kitchen AbvGr;Kitchen Qual;TotRms AbvGrd;Garage Cars;Garage Area;Garage Cond;Pool Area;Pool QC;Mo Sold;Yr Sold;SalePrice',\n",
              " '1;RL;141;31770;Lvl;Gtl;6;1960;1960;Stone;TA;Gd;1080;Fa;Y;1;0;3;1;TA;7;2;528;TA;0;Sp;5;2010;215000']"
            ]
          },
          "metadata": {
            "tags": []
          },
          "execution_count": 6
        }
      ]
    },
    {
      "cell_type": "code",
      "metadata": {
        "colab": {
          "base_uri": "https://localhost:8080/"
        },
        "id": "y1owN6wU4tlV",
        "outputId": "f89c7c5c-a81e-4b73-8305-ff193809a029"
      },
      "source": [
        "# Cuento el numero de registros en total\r\n",
        "raw_vivienda.count()"
      ],
      "execution_count": null,
      "outputs": [
        {
          "output_type": "execute_result",
          "data": {
            "text/plain": [
              "2937"
            ]
          },
          "metadata": {
            "tags": []
          },
          "execution_count": 7
        }
      ]
    },
    {
      "cell_type": "markdown",
      "metadata": {
        "id": "RLQ-u6JISfMh"
      },
      "source": [
        "2. Eliminación de Cabecera"
      ]
    },
    {
      "cell_type": "code",
      "metadata": {
        "colab": {
          "base_uri": "https://localhost:8080/"
        },
        "id": "gsmfSTJgRg7j",
        "outputId": "31ee7df2-4634-485d-965d-7e843f7969c6"
      },
      "source": [
        "cabecera = raw_vivienda.first()\r\n",
        "raw_vivienda_sin_cabecera = raw_vivienda.filter(lambda x: x != cabecera)\r\n",
        "raw_vivienda_sin_cabecera.take(2)"
      ],
      "execution_count": null,
      "outputs": [
        {
          "output_type": "execute_result",
          "data": {
            "text/plain": [
              "['1;RL;141;31770;Lvl;Gtl;6;1960;1960;Stone;TA;Gd;1080;Fa;Y;1;0;3;1;TA;7;2;528;TA;0;Sp;5;2010;215000',\n",
              " '2;RH;80;11622;Lvl;Gtl;5;1961;1961;None;TA;TA;882;TA;Y;1;0;2;1;TA;5;1;730;TA;0;Sp;6;2010;105000']"
            ]
          },
          "metadata": {
            "tags": []
          },
          "execution_count": 8
        }
      ]
    },
    {
      "cell_type": "markdown",
      "metadata": {
        "id": "3lhPR4rRS8kV"
      },
      "source": [
        "3. Separación por `\",\"`"
      ]
    },
    {
      "cell_type": "code",
      "metadata": {
        "id": "45u_QjduTESh",
        "colab": {
          "base_uri": "https://localhost:8080/"
        },
        "outputId": "8ae295bf-cc10-41bf-dec5-eaac211fb7a2"
      },
      "source": [
        "vivienda_pars = raw_vivienda_sin_cabecera.map(lambda x: x.split(\";\"))\r\n",
        "vivienda_pars.take(2)"
      ],
      "execution_count": null,
      "outputs": [
        {
          "output_type": "execute_result",
          "data": {
            "text/plain": [
              "[['1',\n",
              "  'RL',\n",
              "  '141',\n",
              "  '31770',\n",
              "  'Lvl',\n",
              "  'Gtl',\n",
              "  '6',\n",
              "  '1960',\n",
              "  '1960',\n",
              "  'Stone',\n",
              "  'TA',\n",
              "  'Gd',\n",
              "  '1080',\n",
              "  'Fa',\n",
              "  'Y',\n",
              "  '1',\n",
              "  '0',\n",
              "  '3',\n",
              "  '1',\n",
              "  'TA',\n",
              "  '7',\n",
              "  '2',\n",
              "  '528',\n",
              "  'TA',\n",
              "  '0',\n",
              "  'Sp',\n",
              "  '5',\n",
              "  '2010',\n",
              "  '215000'],\n",
              " ['2',\n",
              "  'RH',\n",
              "  '80',\n",
              "  '11622',\n",
              "  'Lvl',\n",
              "  'Gtl',\n",
              "  '5',\n",
              "  '1961',\n",
              "  '1961',\n",
              "  'None',\n",
              "  'TA',\n",
              "  'TA',\n",
              "  '882',\n",
              "  'TA',\n",
              "  'Y',\n",
              "  '1',\n",
              "  '0',\n",
              "  '2',\n",
              "  '1',\n",
              "  'TA',\n",
              "  '5',\n",
              "  '1',\n",
              "  '730',\n",
              "  'TA',\n",
              "  '0',\n",
              "  'Sp',\n",
              "  '6',\n",
              "  '2010',\n",
              "  '105000']]"
            ]
          },
          "metadata": {
            "tags": []
          },
          "execution_count": 9
        }
      ]
    },
    {
      "cell_type": "markdown",
      "metadata": {
        "id": "jth2D5F71rgX"
      },
      "source": [
        "4. Paso a float los valores perdidos"
      ]
    },
    {
      "cell_type": "code",
      "metadata": {
        "id": "lmP-3_mI1qpS"
      },
      "source": [
        "def tofloat (x):\r\n",
        "  if x in [\"\" , \" \" , \"nan\" , \"null\"]:\r\n",
        "    output = 0.0\r\n",
        "  else:\r\n",
        "    output = float(x)\r\n",
        "  return output"
      ],
      "execution_count": null,
      "outputs": []
    },
    {
      "cell_type": "markdown",
      "metadata": {
        "id": "jAO-j4wwAues"
      },
      "source": [
        "5. Aplicación función"
      ]
    },
    {
      "cell_type": "markdown",
      "metadata": {
        "id": "4vOJSo1wqxgi"
      },
      "source": [
        "Se pretende convertir todos los valores perdidos que se encuentran en la base de dados a float, con la finalidad de que no exista ningun error y mas adelante arrastremos el mimso y no podamos trabajar correctamente. "
      ]
    },
    {
      "cell_type": "markdown",
      "metadata": {
        "id": "Tnx9x8tved8L"
      },
      "source": [
        "-------"
      ]
    },
    {
      "cell_type": "markdown",
      "metadata": {
        "id": "iKUmvyXSNTTK"
      },
      "source": [
        "## **2. Cuántas viviendas distintas encontramos en el dataset? ¿Se repite alguna? Tiene sentido que haya duplicadas? ¿Qué podemos hacer con las duplicadas?**"
      ]
    },
    {
      "cell_type": "code",
      "metadata": {
        "colab": {
          "base_uri": "https://localhost:8080/"
        },
        "id": "imifDs0wQwKP",
        "outputId": "2a419306-61ab-427a-f400-acbe0978dd4d"
      },
      "source": [
        "print(\"El número de viviendas distintas es: {} \".format(vivienda_pars.map(lambda x: x[0]).distinct().count()))"
      ],
      "execution_count": null,
      "outputs": [
        {
          "output_type": "stream",
          "text": [
            "El número de viviendas distintas es: 2930 \n"
          ],
          "name": "stdout"
        }
      ]
    },
    {
      "cell_type": "markdown",
      "metadata": {
        "id": "5KkLHbQDBVQg"
      },
      "source": [
        "Como podemos observar, sí existen duplicados. Ya que, al contar al princio el total de registros, vemos que suman 2937 y después de hacer el distinct obtenemos 2930 viviendas, por lo que existen 7 viviendas repetidas. Como es un número muy reducido en comparacion con la muestra, trabajaremos con ello. No obstante, se podría usar dataframe y borrarlos con drop_duplicated. Pero en nuestro caso trabajamos con RDD y decidimos mantenerlos. "
      ]
    },
    {
      "cell_type": "markdown",
      "metadata": {
        "id": "sm5hzFO2ecLf"
      },
      "source": [
        "-----------"
      ]
    },
    {
      "cell_type": "markdown",
      "metadata": {
        "id": "LgBXUvSeNTTL"
      },
      "source": [
        "## **3. ¿Podrías decirme el total de inmuebles y el precio medio (Sale Price) de cada zona (MS Zoning)?**"
      ]
    },
    {
      "cell_type": "code",
      "metadata": {
        "colab": {
          "base_uri": "https://localhost:8080/"
        },
        "id": "yG-PF28lbEl8",
        "outputId": "cca9c923-6183-4806-caf8-93c1fa537b2c"
      },
      "source": [
        "# 1. Zonas que existen\r\n",
        "vivienda_pars.map(lambda x: x[1]).distinct().collect()"
      ],
      "execution_count": null,
      "outputs": [
        {
          "output_type": "execute_result",
          "data": {
            "text/plain": [
              "['RL', 'RH', 'C', 'Rl', 'FV', 'RM', 'I', 'A', 'rL']"
            ]
          },
          "metadata": {
            "tags": []
          },
          "execution_count": 11
        }
      ]
    },
    {
      "cell_type": "code",
      "metadata": {
        "id": "wS_rigU_ZoTH"
      },
      "source": [
        "# 2. Seleccionamos las distintas zonas x[1] : 'RL', 'RH', 'C', 'Rl', 'FV', 'RM', 'I', 'A', 'rL'\r\n",
        "# y precio x[28]\r\n",
        "RL = vivienda_pars.filter(lambda x: x[1]== 'RL').map(lambda x: (x[0],x[28]))\r\n",
        "RH = vivienda_pars.filter(lambda x: x[1]== 'RH').map(lambda x: (x[0],x[28]))\r\n",
        "C = vivienda_pars.filter(lambda x: x[1]== 'C').map(lambda x: (x[0],x[28]))\r\n",
        "Rl = vivienda_pars.filter(lambda x: x[1]== 'Rl').map(lambda x: (x[0],x[28]))\r\n",
        "FV = vivienda_pars.filter(lambda x: x[1]== 'FV').map(lambda x: (x[0],x[28]))\r\n",
        "RM = vivienda_pars.filter(lambda x: x[1]== 'RM').map(lambda x: (x[0],x[28]))\r\n",
        "I = vivienda_pars.filter(lambda x: x[1]== 'I').map(lambda x: (x[0],x[28]))\r\n",
        "A = vivienda_pars.filter(lambda x: x[1]== 'A').map(lambda x: (x[0],x[28]))\r\n",
        "rL = vivienda_pars.filter(lambda x: x[1]== 'rL').map(lambda x: (x[0],x[28]))"
      ],
      "execution_count": null,
      "outputs": []
    },
    {
      "cell_type": "code",
      "metadata": {
        "colab": {
          "base_uri": "https://localhost:8080/"
        },
        "id": "ayUMR4EjZoWp",
        "outputId": "a267e2a4-55a9-4dd8-bdf9-af3ceb83d6c2"
      },
      "source": [
        "# 3. Número de viviendas por cada zona\r\n",
        "print(\"El número de viviendas RL es: {} \".format(RL.count()))\r\n",
        "print(\"El número de viviendas RH es: {} \".format(RH.count()))\r\n",
        "print(\"El número de viviendas C es: {} \".format(C.count()))\r\n",
        "print(\"El número de viviendas Rl es: {} \".format(Rl.count()))\r\n",
        "print(\"El número de viviendas FV es: {} \".format(FV.count()))\r\n",
        "print(\"El número de viviendas RM es: {} \".format(RM.count()))\r\n",
        "print(\"El número de viviendas I es: {} \".format(I.count()))\r\n",
        "print(\"El número de viviendas A es: {} \".format(A.count()))\r\n",
        "print(\"El número de viviendas rL es: {} \".format(rL.count()))\r\n"
      ],
      "execution_count": null,
      "outputs": [
        {
          "output_type": "stream",
          "text": [
            "El número de viviendas RL es: 2271 \n",
            "El número de viviendas RH es: 27 \n",
            "El número de viviendas C es: 25 \n",
            "El número de viviendas Rl es: 6 \n",
            "El número de viviendas FV es: 139 \n",
            "El número de viviendas RM es: 462 \n",
            "El número de viviendas I es: 2 \n",
            "El número de viviendas A es: 2 \n",
            "El número de viviendas rL es: 2 \n"
          ],
          "name": "stdout"
        }
      ]
    },
    {
      "cell_type": "code",
      "metadata": {
        "id": "F5yNy7N5eVZr"
      },
      "source": [
        "# 4. Precio medio por zona\r\n",
        "Precio_RL = Rl.map(lambda x: tofloat(x[1])).mean()\r\n",
        "Precio_RH = RH.map(lambda x: tofloat(x[1])).mean()\r\n",
        "Precio_C = C.map(lambda x: tofloat(x[1])).mean()\r\n",
        "Precio_Rl = Rl.map(lambda x: tofloat(x[1])).mean()\r\n",
        "Precio_FV = FV.map(lambda x: tofloat(x[1])).mean()\r\n",
        "Precio_RM = RM.map(lambda x: tofloat(x[1])).mean()\r\n",
        "Precio_I = I.map(lambda x: tofloat(x[1])).mean()\r\n",
        "Precio_A = A.map(lambda x: tofloat(x[1])).mean()\r\n",
        "Precio_rL = rL.map(lambda x: tofloat(x[1])).mean()"
      ],
      "execution_count": null,
      "outputs": []
    },
    {
      "cell_type": "code",
      "metadata": {
        "colab": {
          "base_uri": "https://localhost:8080/"
        },
        "id": "OkpfMFRNgj7r",
        "outputId": "050a0acf-db83-4234-d89c-510e8c7d1f21"
      },
      "source": [
        "print(\"El precio medio de RL es: {} \".format(Precio_RL))\r\n",
        "print(\"El precio medio de RH es: {} \".format(Precio_RH))\r\n",
        "print(\"El precio medio de C es: {} \".format(Precio_C))\r\n",
        "print(\"El precio medio de Rl es: {} \".format(Precio_Rl))\r\n",
        "print(\"El precio medio de FV es: {} \".format(Precio_FV))\r\n",
        "print(\"El precio medio de RM es: {} \".format(Precio_RM))\r\n",
        "print(\"El precio medio de I es: {} \".format(Precio_I))\r\n",
        "print(\"El precio medio de A es: {} \".format(Precio_A))\r\n",
        "print(\"El precio medio de rL es: {} \".format(Precio_rL))"
      ],
      "execution_count": null,
      "outputs": [
        {
          "output_type": "stream",
          "text": [
            "El precio medio de RL es: 254833.33333333334 \n",
            "El precio medio de RH es: 136419.77777777778 \n",
            "El precio medio de C es: 79795.04 \n",
            "El precio medio de Rl es: 254833.33333333334 \n",
            "El precio medio de FV es: 218986.94964028776 \n",
            "El precio medio de RM es: 126781.39393939397 \n",
            "El precio medio de I es: 80312.5 \n",
            "El precio medio de A es: 47300.0 \n",
            "El precio medio de rL es: 320000.0 \n"
          ],
          "name": "stdout"
        }
      ]
    },
    {
      "cell_type": "markdown",
      "metadata": {
        "id": "z1osNqWzhfDc"
      },
      "source": [
        "Aunque el enuncido nos indica solo tres zonas, nos resulta mas interesante comparar todas las zonas, llegando a la conclusion que la zona con mayor precio es RL."
      ]
    },
    {
      "cell_type": "markdown",
      "metadata": {
        "id": "dUJy2Fgcrrv9"
      },
      "source": [
        "-------------"
      ]
    },
    {
      "cell_type": "markdown",
      "metadata": {
        "id": "Fgd-wohKNTTL"
      },
      "source": [
        "## **4. Media de Total Bsmt SF por cada década de construcción calculada a partir de Year Built.**\n",
        "## **¿Cuál es la decada de construcción con viviendas mejor acondicionadas para el frío (Heating QC)?**"
      ]
    },
    {
      "cell_type": "code",
      "metadata": {
        "id": "LcUh_fmsjFdg"
      },
      "source": [
        "# Vemos el numero de años y por lo tanto habrá 15 decadas\r\n",
        "vivienda_pars.map(lambda x: (x[7])).distinct().collect()"
      ],
      "execution_count": null,
      "outputs": []
    },
    {
      "cell_type": "code",
      "metadata": {
        "id": "T9HhyFVmipo5"
      },
      "source": [
        "# Funcion decada\r\n",
        "def decada(x):\r\n",
        "    return x[7] + \"0s\""
      ],
      "execution_count": null,
      "outputs": []
    },
    {
      "cell_type": "code",
      "metadata": {
        "colab": {
          "base_uri": "https://localhost:8080/",
          "height": 35
        },
        "id": "20YXuZwse-8a",
        "outputId": "10744b67-9531-48a9-a1b0-22b24187ebc8"
      },
      "source": [
        "decada(\"2007-2008\")"
      ],
      "execution_count": null,
      "outputs": [
        {
          "output_type": "execute_result",
          "data": {
            "application/vnd.google.colaboratory.intrinsic+json": {
              "type": "string"
            },
            "text/plain": [
              "'00s'"
            ]
          },
          "metadata": {
            "tags": []
          },
          "execution_count": 8
        }
      ]
    },
    {
      "cell_type": "code",
      "metadata": {
        "id": "JYc0cPYmfT-q"
      },
      "source": [
        "decada = vivienda_pars.filter(lambda x: x[13]==\"Ex\").map(lambda x: (decada(x[0], x[1]))).\\\r\n",
        "                                                    map(lambda x: (x[7],x[12]).reduceByKey(lambda x,y : x+y).sortBy(lambda x: -x[0])\r\n",
        "decada.take(3) "
      ],
      "execution_count": null,
      "outputs": []
    },
    {
      "cell_type": "code",
      "metadata": {
        "id": "EmgeGNv7oLxT",
        "colab": {
          "base_uri": "https://localhost:8080/"
        },
        "outputId": "03e6f4f7-fb9a-4097-ea72-9237b7b6f5bc"
      },
      "source": [
        "vivienda_pars.filter(lambda x: x[13]==\"Ex\").map(lambda x: (x[0],x[7],x[12],x[13])).takeOrdered(1, lambda x: -float(x[1]))\r\n"
      ],
      "execution_count": null,
      "outputs": [
        {
          "output_type": "execute_result",
          "data": {
            "text/plain": [
              "[('18', '2010', '1856', 'Ex')]"
            ]
          },
          "metadata": {
            "tags": []
          },
          "execution_count": 15
        }
      ]
    },
    {
      "cell_type": "markdown",
      "metadata": {
        "id": "vYBElVoxoMJv"
      },
      "source": [
        "En primer lugar, etiquetamos cada construccion con su década.Se filtra por calidad de calefaccion excelente, seleccionando las columnas Order, Year Built, Total Bsmt SF y Heating QC, y se ha ordenado de forma descendente por el año de costrucción. Por lo tanto, el año de construcción de viviendas mejor acondicionadas para el frío es 2010 perteneciente a la decada del 2000. Deducimos que los nuevos materiales evolucionan al paso del tiempo, lo que conlleva a un mejor material aislante para el frio, por lo tanto, nuestro resultado tiene sentido."
      ]
    },
    {
      "cell_type": "markdown",
      "metadata": {
        "id": "BEIfFsCHrvVG"
      },
      "source": [
        "-----------"
      ]
    },
    {
      "cell_type": "markdown",
      "metadata": {
        "id": "NmAdZGa3NTTL"
      },
      "source": [
        "## **5. ¿Cuáles son las 10 viviendas que se vendieron por un precio más elevado por metro cuadrado en el año 2009?**"
      ]
    },
    {
      "cell_type": "code",
      "metadata": {
        "id": "kBq3sp23mY73"
      },
      "source": [
        "# Metros cuadrados\r\n",
        "metros = viviendas.map(lambda x: (tofloat(x[2]*0.09()))) \r\n",
        "metros"
      ],
      "execution_count": null,
      "outputs": []
    },
    {
      "cell_type": "markdown",
      "metadata": {
        "id": "whyGuV--mbkH"
      },
      "source": [
        "Las medidas cuadradas de la vivienda vienen dadas en pies, por lo tanto, tenemos que pasarlo a metros cuadrados. Esta acción se hace multiplicando por 0.09. Para nuestro análisis decidimos trabajar con la medida de pies puesto que no hemos conseguido convertirlo a metros cuadrados.  "
      ]
    },
    {
      "cell_type": "code",
      "metadata": {
        "colab": {
          "base_uri": "https://localhost:8080/"
        },
        "id": "8b7vyZvfPwGW",
        "outputId": "202f4485-f0b3-4c05-c188-9526512cae45"
      },
      "source": [
        " viviendas = vivienda_pars.filter(lambda x: x[7]=='2009').map(lambda x: (x[0],x[1],x[3],x[7],x[-1])).takeOrdered(10,lambda x: -float(x[-1]))\r\n",
        " viviendas"
      ],
      "execution_count": null,
      "outputs": [
        {
          "output_type": "execute_result",
          "data": {
            "text/plain": [
              "[('45', 'RL', '12919', '2009', '611657'),\n",
              " ('431', 'RL', '12220', '2009', '402861'),\n",
              " ('428', 'RL', '12350', '2009', '398800'),\n",
              " ('39', 'RL', '10159', '2009', '395192'),\n",
              " ('37', 'RL', '12858', '2009', '376162'),\n",
              " ('522', 'FV', '9187', '2009', '370878'),\n",
              " ('819', 'RL', '10933', '2009', '323262'),\n",
              " ('242', 'RL', '17485', '2009', '308030'),\n",
              " ('40', 'RL', '12883', '2009', '290941'),\n",
              " ('319', 'RL', '12003', '2009', '269500')]"
            ]
          },
          "metadata": {
            "tags": []
          },
          "execution_count": 17
        }
      ]
    },
    {
      "cell_type": "markdown",
      "metadata": {
        "id": "QrC1CcHw1tVN"
      },
      "source": [
        "En primer lugar, hemos filatrado por el año 2009 y seleccionando las columnas de Order, MS Zoning, Year Built, SalePrice y ordenando de forma descendente por el precio. Consiguiendo de esta forma el precio más alto por metro cuadrado en el año 2009.\r\n"
      ]
    },
    {
      "cell_type": "markdown",
      "metadata": {
        "id": "KmI1eipirye_"
      },
      "source": [
        "-----------"
      ]
    },
    {
      "cell_type": "markdown",
      "metadata": {
        "id": "B4LXz_V7NTTM"
      },
      "source": [
        "## **6. Media anual por zonas del precio de venta y metros cuadrados.**"
      ]
    },
    {
      "cell_type": "code",
      "metadata": {
        "id": "fnd2Yw4cwQea"
      },
      "source": [
        "zona = vivienda_pars.filter(lambda x: (x[3],x[7])).map(lambda x: (x[1],x[7],x[-1], x[3])).collect()\r\n",
        "zona"
      ],
      "execution_count": null,
      "outputs": []
    },
    {
      "cell_type": "markdown",
      "metadata": {
        "id": "YRegcprs-yQ_"
      },
      "source": [
        "Se filtra por Lot Area y MS Year Built, y seleccionamos las columnas MS Zoning,Year Built, SalePrice y Lot Area para conseguir los metros cuadrados y precios, segun el año y zona de la vivienda. En este caso, tambien se debería haber paso la medida a metros cuadrados pero, como en el caso anterior, no se ha conseguido y por lo tanto, se decido trabjar en pies. "
      ]
    },
    {
      "cell_type": "markdown",
      "metadata": {
        "id": "o_OHaZyBrR9a"
      },
      "source": [
        "-------------------"
      ]
    },
    {
      "cell_type": "markdown",
      "metadata": {
        "id": "fdqxfIGsNTTM"
      },
      "source": [
        "## **7. ¿Podrías decirme el total de recaudación de las casas de revistimiento (Mas Vnr Type) de piedra con respecto a las de ladrillo? ¿Hay diferencia significativa?**"
      ]
    },
    {
      "cell_type": "markdown",
      "metadata": {
        "id": "udDWk7onoQVk"
      },
      "source": [
        "Para realizar este ejercicio, calcularemos el máximo por tipo de vivienda para hacernos una idea del resultado. Y posteriormente, calcularemos el total de cada tipo de piedra para comprobar que estamos en lo cierto. "
      ]
    },
    {
      "cell_type": "markdown",
      "metadata": {
        "id": "r-SkeNCPOtOX"
      },
      "source": [
        "* **Piedra**"
      ]
    },
    {
      "cell_type": "code",
      "metadata": {
        "id": "ukQebxoiWCXi"
      },
      "source": [
        "vivienda_pars.filter(lambda x: x[9] == 'Stone').map(lambda x: (x[-1],x[9])).reduceByKey(lambda y,z: y + z).collect()"
      ],
      "execution_count": null,
      "outputs": []
    },
    {
      "cell_type": "code",
      "metadata": {
        "colab": {
          "base_uri": "https://localhost:8080/"
        },
        "id": "PTiVk-MmOw0j",
        "outputId": "4027a87c-29f6-42e5-8471-b78361523de0"
      },
      "source": [
        "# Maximo\r\n",
        "vivienda_pars.filter(lambda x: x[9] == 'Stone').map(lambda x: (x[-1],x[9])).takeOrdered(2, lambda x: -float(x[0]))"
      ],
      "execution_count": null,
      "outputs": [
        {
          "output_type": "execute_result",
          "data": {
            "text/plain": [
              "[('615000', 'Stone'), ('611657', 'Stone')]"
            ]
          },
          "metadata": {
            "tags": []
          },
          "execution_count": 331
        }
      ]
    },
    {
      "cell_type": "code",
      "metadata": {
        "id": "cxkK-Dk1XaJY"
      },
      "source": [
        "# Total\r\n",
        "piedra = vivienda_pars.filter(lambda x: x[9] == 'Stone').map(lambda x: (x[0], x[9], x[-1]))\r\n",
        "precio_piedra = piedra.map(lambda x: tofloat(x[2])).sum()"
      ],
      "execution_count": null,
      "outputs": []
    },
    {
      "cell_type": "code",
      "metadata": {
        "colab": {
          "base_uri": "https://localhost:8080/"
        },
        "id": "ILmhTSG9anp5",
        "outputId": "6ff0a686-743f-42df-e701-0a317b6661f3"
      },
      "source": [
        "print('El precio en total de las viviendas de piedra es:', precio_piedra )"
      ],
      "execution_count": null,
      "outputs": [
        {
          "output_type": "stream",
          "text": [
            "El precio en total de las viviendas de piedra es: 65196277.0\n"
          ],
          "name": "stdout"
        }
      ]
    },
    {
      "cell_type": "markdown",
      "metadata": {
        "id": "ZlkIpD0AOw8M"
      },
      "source": [
        "* **Ladrillo**"
      ]
    },
    {
      "cell_type": "code",
      "metadata": {
        "id": "B5gQLxdDWDLZ"
      },
      "source": [
        "vivienda_pars.filter(lambda x: x[9] == 'BrkFace').map(lambda x: (x[-1],x[9])).reduceByKey(lambda y,z: y + z).collect()"
      ],
      "execution_count": null,
      "outputs": []
    },
    {
      "cell_type": "code",
      "metadata": {
        "colab": {
          "base_uri": "https://localhost:8080/"
        },
        "id": "blcSX5tWO595",
        "outputId": "2ab7427e-1c5b-450c-fe4e-602343ced11f"
      },
      "source": [
        "# Maximo\r\n",
        "vivienda_pars.filter(lambda x: x[9] == 'BrkFace').map(lambda x: (x[-1],x[9])).takeOrdered(2, lambda x: -float(x[0]))"
      ],
      "execution_count": null,
      "outputs": [
        {
          "output_type": "execute_result",
          "data": {
            "text/plain": [
              "[('755000', 'BrkFace'), ('625000', 'BrkFace')]"
            ]
          },
          "metadata": {
            "tags": []
          },
          "execution_count": 334
        }
      ]
    },
    {
      "cell_type": "code",
      "metadata": {
        "id": "eXYE9ZhRXZZ2"
      },
      "source": [
        "# Total\r\n",
        "ladrillo = vivienda_pars.filter(lambda x: x[9] == 'BrkFace').map(lambda x: (x[0], x[9], x[-1]))\r\n",
        "precio_ladrillo = ladrillo.map(lambda x: tofloat(x[2])).sum()"
      ],
      "execution_count": null,
      "outputs": []
    },
    {
      "cell_type": "code",
      "metadata": {
        "colab": {
          "base_uri": "https://localhost:8080/"
        },
        "id": "oF4D8RGfYbaT",
        "outputId": "f141e5df-5db7-46f0-fc56-f3ca326880ce"
      },
      "source": [
        "print('El precio en total de las viviendas de ladrillo es:', precio_ladrillo )"
      ],
      "execution_count": null,
      "outputs": [
        {
          "output_type": "stream",
          "text": [
            "El precio en total de las viviendas de ladrillo es: 186003261.0\n"
          ],
          "name": "stdout"
        }
      ]
    },
    {
      "cell_type": "markdown",
      "metadata": {
        "id": "IKik6KkXrPnr"
      },
      "source": [
        "Sí, existe diferencia signficativa. Las viviendias construidas con ladrillo son mas caras que las construidas con piedra. El precio máximo de las viviendas construidas con piedra es 615000 , mientras que las de ladrillo un máximo de 755.000. No obstante, se ha calculado el total recaudado de cada tipo de vivienda, consiguiendo una mayor recaudacion la de ladrillo que la de piedra. Esto no es significativo puesto que la base de datos puede haber recogido mas información de casas de ladrillo que de piedra."
      ]
    },
    {
      "cell_type": "markdown",
      "metadata": {
        "id": "OzKq6hJHrQFr"
      },
      "source": [
        "-----------------------"
      ]
    },
    {
      "cell_type": "markdown",
      "metadata": {
        "id": "dnNS3GslNTTM"
      },
      "source": [
        "## **8. ¿Cuánto son más caras las viviendas con 2 cocinas, con 2 o más plazas de garaje que las que tienen 1 cocina y 1 plaza de garaje? Comparar medias y cuartiles de ambos casos**"
      ]
    },
    {
      "cell_type": "code",
      "metadata": {
        "id": "xf26vuVI1ltZ"
      },
      "source": [
        "vivienda_pars.filter(lambda x: (x[18] == 2) and (x[21] == 3)).map(lambda x: (x[0],x[-1])).reduceByKey(lambda y,z: y + z).collect()"
      ],
      "execution_count": null,
      "outputs": []
    },
    {
      "cell_type": "markdown",
      "metadata": {
        "id": "HSCwncNGxHWF"
      },
      "source": [
        "Cuartil\r\n"
      ]
    },
    {
      "cell_type": "code",
      "metadata": {
        "id": "aCorGusNkyul"
      },
      "source": [
        "# Creo el objeto vivienda con el precio \r\n",
        "vivienda= vivienda_pars.map(lambda x: (int(x[-1]))).collect()\r\n",
        "vivienda.sort()"
      ],
      "execution_count": null,
      "outputs": []
    },
    {
      "cell_type": "markdown",
      "metadata": {
        "id": "kpPseRUhmmhT"
      },
      "source": [
        "Cuartiles 25% - 50% - 75% :"
      ]
    },
    {
      "cell_type": "code",
      "metadata": {
        "colab": {
          "base_uri": "https://localhost:8080/"
        },
        "id": "60G8wRLqz0yt",
        "outputId": "3976af28-3730-4b9d-a2aa-100eec657a44"
      },
      "source": [
        "print(\"El cuartil 25% es: {} \".format(vivienda[int(len(vivienda)*.25)]))\r\n",
        "print(\"El cuartil 50% es: {} \".format(vivienda[int (len(vivienda)*.50)]))\r\n",
        "print(\"El cuartil 75% es: {} \".format(vivienda[int (len(vivienda)*.75)]))"
      ],
      "execution_count": null,
      "outputs": [
        {
          "output_type": "stream",
          "text": [
            "El cuartil 25% es: 129500 \n",
            "El cuartil 50% es: 160250 \n",
            "El cuartil 75% es: 213750 \n"
          ],
          "name": "stdout"
        }
      ]
    },
    {
      "cell_type": "markdown",
      "metadata": {
        "id": "81ULIThknESw"
      },
      "source": [
        "Función cuartiles para clasificarlos:"
      ]
    },
    {
      "cell_type": "code",
      "metadata": {
        "id": "pNm8HMX6u9N9"
      },
      "source": [
        "def cuartil(x):\r\n",
        "    if x <= 129500:\r\n",
        "      return (1)\r\n",
        "    elif x <= 160250:\r\n",
        "      return (2) \r\n",
        "    else:\r\n",
        "      return (3)"
      ],
      "execution_count": null,
      "outputs": []
    },
    {
      "cell_type": "markdown",
      "metadata": {
        "id": "1uOyPd4Tv2jH"
      },
      "source": [
        "Viviendas con 2 cocinas, con 2 o más plazas de garaje."
      ]
    },
    {
      "cell_type": "code",
      "metadata": {
        "id": "6RDAvwxTqhjV",
        "colab": {
          "base_uri": "https://localhost:8080/"
        },
        "outputId": "0c6dceee-f799-4fdf-9de8-021354acadc5"
      },
      "source": [
        "vivienda_pars.filter(lambda x: (int(x[18] == 2),(x[21] == 3))).\\\r\n",
        "              map(lambda x: (cuartil(int(x[-1])),1)).reduceByKey(lambda y,z: y + z).collect()"
      ],
      "execution_count": null,
      "outputs": [
        {
          "output_type": "execute_result",
          "data": {
            "text/plain": [
              "[(2, 730), (3, 1467), (1, 739)]"
            ]
          },
          "metadata": {
            "tags": []
          },
          "execution_count": 101
        }
      ]
    },
    {
      "cell_type": "markdown",
      "metadata": {
        "id": "Vb5hvLM7wBFs"
      },
      "source": [
        "Viviendas con 1 cocina y 1 plaza de garaje."
      ]
    },
    {
      "cell_type": "code",
      "metadata": {
        "id": "yHCPJUfWqhmD",
        "colab": {
          "base_uri": "https://localhost:8080/"
        },
        "outputId": "0bce85d6-b5db-41fc-f896-2c036bb865eb"
      },
      "source": [
        "vivienda_pars.filter(lambda x: (int(x[18] == 1),(x[21] == 1))).\\\r\n",
        "              map(lambda x: (cuartil(int(x[-1])),1)).reduceByKey(lambda y,z: y + z).collect()"
      ],
      "execution_count": null,
      "outputs": [
        {
          "output_type": "execute_result",
          "data": {
            "text/plain": [
              "[(2, 730), (3, 1467), (1, 739)]"
            ]
          },
          "metadata": {
            "tags": []
          },
          "execution_count": 102
        }
      ]
    },
    {
      "cell_type": "markdown",
      "metadata": {
        "id": "zeQRGtdpyjO_"
      },
      "source": [
        "A priori, se podría pensar que una vivienda con más cocinas y mas número de plazas de garaje podría existir una diferencia significativa en el precio. \r\n",
        "Después de realizar los calculos, observamos que no existe variación alguna en el precio de los dos supuestos casos de vivienda, clasificandolos en misma proporción."
      ]
    },
    {
      "cell_type": "markdown",
      "metadata": {
        "id": "u0-uAzmpr7qA"
      },
      "source": [
        "-------------------------------"
      ]
    },
    {
      "cell_type": "markdown",
      "metadata": {
        "id": "xBUQRZEuNTTN"
      },
      "source": [
        "## **9. (COMPLEMENTARIA) Estudiar la relación entre el precio y el número de Garajes. (Recomiendo segmentar precio por cuartiles y estudiar el número de casos coincidentes)**"
      ]
    },
    {
      "cell_type": "code",
      "metadata": {
        "id": "vlbqLLXX-6pV"
      },
      "source": [
        "# Creo el objeto vivienda con el precio y numero de garajes\r\n",
        "vivienda= vivienda_pars.map(lambda x: (int(x[-1]),(x[21]))).collect()\r\n",
        "vivienda.sort()"
      ],
      "execution_count": null,
      "outputs": []
    },
    {
      "cell_type": "code",
      "metadata": {
        "colab": {
          "base_uri": "https://localhost:8080/"
        },
        "id": "fLIIBOLs-603",
        "outputId": "7c78b1fa-e989-45f0-cfb2-50d5ab023adb"
      },
      "source": [
        "# Calculo cuartiles\r\n",
        "print(\"El cuartil 25% es: {} \".format(vivienda[int(len(x)*.25)]))\r\n",
        "print(\"El cuartil 50% es: {} \".format(vivienda[int (len(x)*.50)]))\r\n",
        "print(\"El cuartil 75% es: {} \".format(vivienda[int (len(x)*.75)]))"
      ],
      "execution_count": null,
      "outputs": [
        {
          "output_type": "stream",
          "text": [
            "El cuartil 25% es: (129500, '1') \n",
            "El cuartil 50% es: (160250, '2') \n",
            "El cuartil 75% es: (213750, '2') \n"
          ],
          "name": "stdout"
        }
      ]
    },
    {
      "cell_type": "code",
      "metadata": {
        "id": "hBFuP6VWAafW"
      },
      "source": [
        "# funcion cuartil\r\n",
        "def cuartil(x):\r\n",
        "    if x <= 129500:\r\n",
        "      return (1)\r\n",
        "    elif x <= 160250:\r\n",
        "      return (2) \r\n",
        "    else:\r\n",
        "      return (3)"
      ],
      "execution_count": null,
      "outputs": []
    },
    {
      "cell_type": "code",
      "metadata": {
        "colab": {
          "base_uri": "https://localhost:8080/"
        },
        "id": "xv56Iw9gAsQ8",
        "outputId": "892c7d4d-b7da-4969-fe09-f9204cdfc9d2"
      },
      "source": [
        "vivienda_pars.filter(lambda x: (int(x[-1]),(x[21]))).map(lambda x: (cuartil(int(x[-1])),1)).\\\r\n",
        "reduceByKey(lambda y,z: y + z).collect()"
      ],
      "execution_count": null,
      "outputs": [
        {
          "output_type": "execute_result",
          "data": {
            "text/plain": [
              "[(2, 730), (3, 1467), (1, 739)]"
            ]
          },
          "metadata": {
            "tags": []
          },
          "execution_count": 117
        }
      ]
    },
    {
      "cell_type": "markdown",
      "metadata": {
        "id": "-66uzGF-MFqA"
      },
      "source": [
        "Como podemos observar, podemos clasificar las viviendas por numero de garajes, existiendo un mayor numero de casas en el grupo 3 donde corresponden aquellas casas mas caras y por tanto mayor número de garajes. Por lo tanto, se afirma que sí existe correlación entre precio y número de garajes. "
      ]
    },
    {
      "cell_type": "markdown",
      "metadata": {
        "id": "m5vNTZ3grj4Y"
      },
      "source": [
        "-------------------"
      ]
    },
    {
      "cell_type": "markdown",
      "metadata": {
        "id": "Ao8HD9jpNTTN"
      },
      "source": [
        "## **10. (COMPLEMENTARIA) Las 10 viviendas con mejores servicios y mejor precio.**"
      ]
    },
    {
      "cell_type": "code",
      "metadata": {
        "colab": {
          "base_uri": "https://localhost:8080/"
        },
        "id": "pXcq2p2E7OB8",
        "outputId": "59c6ee89-26b2-412d-cdfc-f3b31ba4bcea"
      },
      "source": [
        "vivienda_pars.filter(lambda x: ((x[13] == 'Ex'), (x[15] == 3),(x[16] == 3), (x[17] == 4), (x[18] == 2))).\\\r\n",
        "              map(lambda x: (x[7],x[14],x[16],x[17],x[18],x[-1])).takeOrdered(10, lambda x: -float(x[-1]))"
      ],
      "execution_count": null,
      "outputs": [
        {
          "output_type": "execute_result",
          "data": {
            "text/plain": [
              "[('1994', 'Y', '1', '4', '1', '755000'),\n",
              " ('1996', 'Y', '1', '4', '1', '745000'),\n",
              " ('1995', 'Y', '1', '4', '1', '625000'),\n",
              " ('2003', 'Y', '1', '1', '1', '615000'),\n",
              " ('2009', 'Y', '1', '2', '1', '611657'),\n",
              " ('2007', 'Y', '1', '2', '1', '610000'),\n",
              " ('2006', 'Y', '1', '4', '1', '591587'),\n",
              " ('1993', 'Y', '1', '4', '1', '584500'),\n",
              " ('2008', 'Y', '1', '4', '1', '582933'),\n",
              " ('2005', 'Y', '1', '4', '1', '556581')]"
            ]
          },
          "metadata": {
            "tags": []
          },
          "execution_count": 93
        }
      ]
    },
    {
      "cell_type": "markdown",
      "metadata": {
        "id": "HrXxJMXhqHqk"
      },
      "source": [
        "En este caso, se ha filtrado por excelente y por las caracteristicas de mejor vivienda que hemos considerado:\r\n",
        "numero de baños completos por planta = 3\r\n",
        "numero de asesos por planta = 3\r\n",
        "numero de dormitorios = 4\r\n",
        "numero de cocinas = 2 \r\n",
        "y el precio de la casa. \r\n"
      ]
    },
    {
      "cell_type": "markdown",
      "metadata": {
        "id": "JTZTlR3pNTTN"
      },
      "source": [
        "### Pista:\n",
        "#### Calcula las variables: \n",
        "- Número de servicios excelentes\n",
        "- Número de servicios buenos\n",
        "...\n",
        "\n",
        "#### Tendréis que tener en cuenta también variables como número de baños Full Bath, cocinas Kitchen AbvGr o dormitorios Bedroom AbvGr. Generando por ejemplo (número de estas variables por encima de media)\n",
        "\n",
        "#### Finalmente precio de venta"
      ]
    },
    {
      "cell_type": "markdown",
      "metadata": {
        "id": "wZOJUZQV124A"
      },
      "source": [
        "FIN\r\n"
      ]
    }
  ]
}